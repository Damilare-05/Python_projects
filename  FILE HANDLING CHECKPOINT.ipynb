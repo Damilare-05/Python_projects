{
 "cells": [
  {
   "cell_type": "markdown",
   "id": "dce6e3cc",
   "metadata": {},
   "source": [
    "# PYTHON FILE HANDLING CHECKPOINT"
   ]
  },
  {
   "cell_type": "markdown",
   "id": "85a051a7",
   "metadata": {},
   "source": [
    "**This dataset contains loan information, including loan ID, customer gender, location, region, total price for each loan etc.**\n",
    "\n",
    "\n",
    "***Instructions***\n",
    "\n",
    " \n",
    "\n",
    "1. Begin by importing the necessary libraries, numpy.\n",
    "2. Use the open() function to open csv file and assign the result to a variable.\n",
    "3. Use the numpy array to perform some basic statistical analysis on the data, such as finding the mean, median, and standard deviation of the loan amounts.\n",
    "\n",
    "**Note:**\n",
    "\n",
    "- Be sure to close the file after you have finished reading it in with the open() function.\n",
    "- Use the delimiter parameter in the genfromtxt() function to specify that the values in the file are separated by commas.\n",
    "- You can use the numpy functions mean(), median(), and std() to find the mean, median, and standard deviation of the loan amounts.\n",
    "\n"
   ]
  },
  {
   "cell_type": "code",
   "execution_count": 1,
   "id": "ded4e616",
   "metadata": {},
   "outputs": [],
   "source": [
    "# importing the necessary libraries, numpy.\n",
    "\n",
    "import numpy as np"
   ]
  },
  {
   "cell_type": "code",
   "execution_count": 2,
   "id": "ae94e599",
   "metadata": {
    "collapsed": true
   },
   "outputs": [
    {
     "data": {
      "text/plain": [
       "array([128.,  66., 120., 141., 267.,  95., 158., 168., 349.,  70., 109.,\n",
       "       200., 114.,  17., 125., 100.,  76., 133., 115., 104., 315., 116.,\n",
       "       112., 151., 191., 122., 110.,  35., 120., 201.,  74., 106., 114.,\n",
       "       320., 100., 144., 184., 110.,  80.,  47.,  75., 134.,  96.,  88.,\n",
       "        44., 144., 120., 144., 100., 120., 112., 134., 286.,  97.,  96.,\n",
       "       135., 180., 144., 120.,  99., 165., 116., 258., 126., 312., 125.,\n",
       "       136., 172.,  97.,  81.,  95., 187., 113., 176., 110., 180., 130.,\n",
       "       111., 167., 265.,  50., 136.,  99., 104., 210., 175., 131., 188.,\n",
       "        81., 122.,  25., 137.,  50., 115., 131., 133., 151., 160., 100.,\n",
       "       225., 120., 216.,  94., 136., 139., 152., 118., 185., 154.,  85.,\n",
       "       175., 259., 180.,  44., 137.,  81., 194.,  93., 370., 160., 182.,\n",
       "       650.,  74.,  70.,  25., 102., 290.,  84.,  88., 242., 129., 185.,\n",
       "       168., 175., 122., 187., 100.,  70.,  30., 225., 125., 118., 152.,\n",
       "       244., 113.,  50., 600., 160., 187., 120., 255.,  98., 275., 121.,\n",
       "       158.,  75., 182., 112., 129.,  63., 200.,  95., 700.,  81., 187.,\n",
       "        87., 116., 101., 495., 116., 102., 180.,  67.,  73., 260., 108.,\n",
       "       120.,  66.,  58., 168., 188.,  48., 164., 160.,  76., 120., 170.,\n",
       "       187., 120., 113.,  83.,  90., 166., 135., 124., 120.,  80.,  55.,\n",
       "        59., 127., 214., 128., 240., 130., 137., 100., 135., 131.,  72.,\n",
       "       127.,  60., 116., 144., 175., 128., 170., 138., 210., 158., 200.,\n",
       "       104.,  42., 120., 280., 140., 170., 255., 122., 112.,  96., 120.,\n",
       "       140., 155., 108., 123., 120., 112., 137., 123.,  90., 201., 138.,\n",
       "       104., 279., 192., 255., 115.,  94., 304., 128., 330., 134., 155.,\n",
       "       120., 128., 151., 150., 160., 135.,  90.,  30., 136., 126., 150.,\n",
       "        90., 115., 207.,  80., 436., 124., 158., 112.,  78.,  54.,  89.,\n",
       "        99., 120., 115., 187., 139., 127., 134., 143., 172., 110., 200.,\n",
       "       135., 151., 113.,  93., 105., 132.,  96., 140., 135., 104., 480.,\n",
       "       185.,  84., 111.,  56., 144., 159., 111., 120.,  88., 112., 155.,\n",
       "       115., 124., 132., 300., 376., 130., 184., 110.,  67., 117.,  98.,\n",
       "        71., 490., 182.,  70., 160., 176.,  71., 173.,  46., 158.,  74.,\n",
       "       125., 160., 152., 126., 259., 187., 228., 308.,  95., 105., 130.,\n",
       "       116., 165.,  67., 100., 200.,  81., 236., 130.,  95., 141., 133.,\n",
       "        96., 124., 175., 570.,  55., 155., 380., 111., 110., 120., 130.,\n",
       "       130.,  71., 130., 128., 296., 156., 128., 100., 113., 132., 136.,\n",
       "       125., 185., 275., 120., 113., 113., 135.,  71.,  95., 109., 103.,\n",
       "        45.,  65., 103.,  53., 194., 115., 115.,  66., 152., 360.,  62.,\n",
       "       160., 218., 110., 178.,  60., 160., 239., 112., 138., 138.,  80.,\n",
       "       100., 110.,  96., 121.,  81., 133.,  87.,  60., 150., 105., 405.,\n",
       "       143., 100.,  50., 187., 138., 187., 180., 148., 152., 175., 130.,\n",
       "       110.,  55., 150., 190., 125.,  60., 149.,  90.,  84.,  96., 118.,\n",
       "       173., 136., 160., 160., 128., 153., 132.,  98., 140.,  70., 110.,\n",
       "        98., 110., 162., 113., 100.,  93., 162., 150., 230., 132.,  86.,\n",
       "       154., 113., 128., 234., 246., 131.,  80., 500., 160.,  75.,  96.,\n",
       "       186., 110., 225., 119., 105., 107., 111.,  95., 209., 113., 100.,\n",
       "       208., 138., 124., 243., 480.,  96., 188.,  40., 100., 250., 148.,\n",
       "        70., 311., 150., 113., 123., 185.,  95.,  45.,  55., 100., 480.,\n",
       "       400., 110., 161.,  94., 130., 216., 100., 110., 196., 125., 126.,\n",
       "       324., 107.,  66., 157., 140.,  99.,  95., 128., 102., 155.,  80.,\n",
       "       145., 103., 110., 158., 181., 132.,  26.,  84., 260., 162., 182.,\n",
       "       108., 600., 211., 132., 258., 120.,  70., 123.,   9., 104., 186.,\n",
       "       165., 275., 187., 150., 108., 136., 110., 107., 161., 205.,  90.,\n",
       "        36.,  61., 146., 172., 104.,  70.,  94., 106.,  56., 205., 292.,\n",
       "       142., 260., 110., 187.,  88., 180., 192., 350., 155., 128., 172.,\n",
       "       496., 173., 157., 108.,  71.,  40., 253., 187., 133.])"
      ]
     },
     "execution_count": 2,
     "metadata": {},
     "output_type": "execute_result"
    }
   ],
   "source": [
    "#Using the open() function to open csv file and assigning the result to a variable.\n",
    "filepath = \"C:\\\\Users\\\\damil\\\\Downloads\\\\Loan_prediction_dataset.csv\"\n",
    "\n",
    "with open(filepath, 'r') as file:\n",
    "    loan_amounts_list = []  # Initialize an empty list\n",
    "    for line in file:\n",
    "      \n",
    "        columns = line.strip().split(',')\n",
    "       \n",
    "        loan_amounts_list.append(columns[8])  \n",
    "\n",
    "#Removing the header if present \n",
    "loan_amounts_list = loan_amounts_list[1:]\n",
    "\n",
    "# Filtering out empty strings and non-numeric values\n",
    "loan_amounts_filtered = [value for value in loan_amounts_list if value and value.replace('.', '', 1).isdigit()]\n",
    "\n",
    "# Converting the list to a NumPy array\n",
    "loan_amounts_array = np.array(loan_amounts_filtered)\n",
    "\n",
    "# Converting the data type of the array to float\n",
    "loan_amounts_array = loan_amounts_array.astype(float)\n",
    "\n",
    "loan_amounts_array"
   ]
  },
  {
   "cell_type": "code",
   "execution_count": 3,
   "id": "e8ab563a",
   "metadata": {},
   "outputs": [],
   "source": [
    "#Using the numpy array to perform some basic statistical analysis on the data, such as finding the mean, median, and standard deviation of the loan amounts.\n",
    "\n",
    "mean_val = np.mean(loan_amounts_array)\n",
    "median_val = np.median(loan_amounts_array)\n",
    "standard_dev = np.std(loan_amounts_array)"
   ]
  },
  {
   "cell_type": "code",
   "execution_count": 4,
   "id": "4ace3140",
   "metadata": {},
   "outputs": [
    {
     "name": "stdout",
     "output_type": "stream",
     "text": [
      "Analysis of the Loan Amount\n",
      "---------------------------\n",
      "Mean of the Loan amount: 146.41\n",
      "Median of the Loan amount: 128.0\n",
      "Standard deviation of the Loan amount: 85.52\n"
     ]
    }
   ],
   "source": [
    "#printing the results\n",
    "\n",
    "print(\"Analysis of the Loan Amount\")\n",
    "print(\"---------------------------\")\n",
    "\n",
    "print(\"Mean of the Loan amount:\", mean_val.round(2))\n",
    "print(\"Median of the Loan amount:\", median_val)\n",
    "print(\"Standard deviation of the Loan amount:\", standard_dev.round(2))"
   ]
  }
 ],
 "metadata": {
  "kernelspec": {
   "display_name": "Python 3 (ipykernel)",
   "language": "python",
   "name": "python3"
  },
  "language_info": {
   "codemirror_mode": {
    "name": "ipython",
    "version": 3
   },
   "file_extension": ".py",
   "mimetype": "text/x-python",
   "name": "python",
   "nbconvert_exporter": "python",
   "pygments_lexer": "ipython3",
   "version": "3.11.3"
  }
 },
 "nbformat": 4,
 "nbformat_minor": 5
}
