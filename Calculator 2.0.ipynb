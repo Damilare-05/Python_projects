{
 "cells": [
  {
   "cell_type": "markdown",
   "id": "3a149386",
   "metadata": {},
   "source": [
    "# Calculator 2.0"
   ]
  },
  {
   "cell_type": "markdown",
   "id": "3cf7aa15",
   "metadata": {},
   "source": [
    "**In this exercise, you will expand on the basic calculator program by adding more advanced mathematical operations and error handling using object-oriented programming.**\n",
    "\n",
    "\n",
    "***Instructions***\n",
    "\n",
    "1. Create a new file called \"calculator_2.0.py\"\n",
    "2. Create a class called \"Calculator\" that contains the following:\n",
    "3. A dictionary attribute to store the available mathematical operations and their corresponding functions\n",
    "4. A method called \"init\" that initializes the dictionary with the basic mathematical operations (+, -, *, /) and corresponding functions\n",
    "5. A method called \"add_operation\" that takes in two arguments: the operation symbol and the corresponding function. This method should add the new operation and function to the dictionary.\n",
    "6. A method called \"calculate\" that takes in three arguments: the first number, the operation symbol, and the second number. This method should use the dictionary to determine the appropriate function to perform the calculation. It should also include error handling to check if the operation symbol is valid and if the input values are numbers. If an error is encountered, the method should print an error message and raise an exception.\n",
    "7. Create separate functions for the advanced mathematical operations (exponentiation, square root, logarithm) and use the \"add_operation\" method to add them to the calculator's dictionary.\n",
    "8. In the main program, create an instance of the Calculator class, and use a while loop that allows the user to continue performing calculations until they choose to exit.\n",
    "9. Use the input() function to get input from the user for the numbers and operation symbol.Use the math library for advanced mathematical operations\n",
    "10. Use the isinstance() function to check if the input is a number."
   ]
  },
  {
   "cell_type": "code",
   "execution_count": null,
   "id": "c7e3f677",
   "metadata": {},
   "outputs": [],
   "source": [
    "import math"
   ]
  },
  {
   "cell_type": "code",
   "execution_count": null,
   "id": "930ffff9",
   "metadata": {},
   "outputs": [],
   "source": [
    "# Defining the functions for the basic math operations\n",
    "\n",
    "def add(self, num1, num2):\n",
    "    # Adding two numbers\n",
    "    return num1 + num2\n",
    "    \n",
    "def subtract(self, num1, num2):\n",
    "    # Subtracting the second number from the first number\n",
    "    return num1 - num2\n",
    "\n",
    "def multiply(self, num1, num2):\n",
    "    # Multiplying two numbers\n",
    "    return num1 * num2\n",
    "\n",
    "def divide(self, num1, num2):\n",
    "    # Dividing the first number by the second number, with a check for division by zero\n",
    "    if num2 == 0:\n",
    "        print(\"Error: Division by zero is not allowed.\")\n",
    "    return num1 / num2"
   ]
  },
  {
   "cell_type": "code",
   "execution_count": null,
   "id": "66dce875",
   "metadata": {},
   "outputs": [],
   "source": [
    "class Calculator:\n",
    "    def __init__(self):\n",
    "        # Initializing the operations dictionary with basic operations and their corresponding methods\n",
    "        self.operations = {\n",
    "            '+': self.add,\n",
    "            '-': self.subtract,\n",
    "            '*': self.multiply,\n",
    "            '/': self.divide\n",
    "        }\n",
    "    \n",
    "    def add_operation(self, symbol, function):\n",
    "        # Adding a new operation to the operations dictionary\n",
    "        self.operations[symbol] = function\n",
    "    \n",
    "    def calculate(self, num1, operation, num2):\n",
    "        # Checking if the operation is valid\n",
    "        if operation not in self.operations:\n",
    "            print(f\"Error: '{operation}' is not a valid operation.\")\n",
    "        \n",
    "        # Checking if the inputs are numbers\n",
    "        if not (isinstance(num1, (int, float)) and isinstance(num2, (int, float))):\n",
    "        # The isinstance() function returns True if the specified object is of the specified type, otherwise False.    \n",
    "            print(\"Error: Both numbers must be integers or floats.\")\n",
    "        \n",
    "        # Retrieving the function corresponding to the operation\n",
    "        function = self.operations[operation] \n",
    "        return function(num1, num2)  # Executing the function with num1 and num2 as arguments"
   ]
  },
  {
   "cell_type": "code",
   "execution_count": null,
   "id": "1c7cd34f",
   "metadata": {},
   "outputs": [],
   "source": [
    "x = Calculator()\n",
    "x.add(2,4)"
   ]
  },
  {
   "cell_type": "code",
   "execution_count": null,
   "id": "6e972065",
   "metadata": {},
   "outputs": [],
   "source": [
    "# Creating an instance of the Calculator class\n",
    "calc = Calculator()"
   ]
  },
  {
   "cell_type": "code",
   "execution_count": null,
   "id": "da3841ad",
   "metadata": {},
   "outputs": [],
   "source": [
    "# functions for the advanced mathematical operations\n",
    "def exponentiate(self, num1, num2):\n",
    "    # Raising the first number to the power of the second number\n",
    "    return num1 ** num2\n",
    "\n",
    "def sqrt(self, num1, _):\n",
    "    # Calculating the square root of the first number\n",
    "    return math.sqrt(num1)\n",
    "\n",
    "def logarithm(self, num1, num2):\n",
    "    # Calculating the logarithm of num1 with base num2, with checks for valid inputs\n",
    "    if num1 <= 0:\n",
    "        print(\"Error: Logarithm base must be greater than 0.\")\n",
    "    if num2 <= 0 or num2 == 1:\n",
    "        print(\"Error: Logarithm argument must be greater than 0 and not equal to 1.\")\n",
    "    return math.log(num1, num2)  # Calculating the logarithm"
   ]
  },
  {
   "cell_type": "code",
   "execution_count": null,
   "id": "adb35eaa",
   "metadata": {},
   "outputs": [],
   "source": [
    "# Adding advanced operations to the calculator\n",
    "calc.add_operation('^', calc.exponentiate)\n",
    "calc.add_operation('sqrt', calc.sqrt)\n",
    "calc.add_operation('log', calc.logarithm)"
   ]
  },
  {
   "cell_type": "code",
   "execution_count": null,
   "id": "b714894c",
   "metadata": {},
   "outputs": [],
   "source": [
    "while True:\n",
    "    # Prompting the user to enter the first number or exit the program\n",
    "    num1_input = input(\"Enter the first number (or type 'exit' to quit): \")\n",
    "    if num1_input.lower() == 'exit':\n",
    "        break  # Exiting the loop if the user types 'exit'\n",
    "\n",
    "    # Prompting the user to enter the second number\n",
    "    num2_input = input(\"Enter the second number: \")\n",
    "\n",
    "    # Prompting the user to enter the operation\n",
    "    operation = input(\"Enter the operation (+, -, *, /, ^, sqrt, log): \")\n",
    "\n",
    "    # Converting inputs to floats\n",
    "    num1 = float(num1_input)\n",
    "    num2 = float(num2_input) if operation != 'sqrt' else 0  # sqrt only needs one number\n",
    "\n",
    "    # Performing the calculation\n",
    "    result = calc.calculate(num1, operation, num2)\n",
    "\n",
    "    # Displaying the result\n",
    "    print(f\"The result is: {result}\")"
   ]
  },
  {
   "cell_type": "code",
   "execution_count": null,
   "id": "3b6a727c",
   "metadata": {},
   "outputs": [],
   "source": []
  }
 ],
 "metadata": {
  "kernelspec": {
   "display_name": "Python 3 (ipykernel)",
   "language": "python",
   "name": "python3"
  },
  "language_info": {
   "codemirror_mode": {
    "name": "ipython",
    "version": 3
   },
   "file_extension": ".py",
   "mimetype": "text/x-python",
   "name": "python",
   "nbconvert_exporter": "python",
   "pygments_lexer": "ipython3",
   "version": "3.11.3"
  }
 },
 "nbformat": 4,
 "nbformat_minor": 5
}
