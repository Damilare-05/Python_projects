{
 "cells": [
  {
   "cell_type": "markdown",
   "id": "183c40b9",
   "metadata": {},
   "source": [
    "# PYTHON NUMPY CHECKPOINT"
   ]
  },
  {
   "cell_type": "markdown",
   "id": "d4ff004c",
   "metadata": {},
   "source": [
    " Create a numpy array called \"grades\" that contains the following grades: **[85, 90, 88, 92, 95, 80, 75, 98, 89, 83]**"
   ]
  },
  {
   "cell_type": "markdown",
   "id": "9c992509",
   "metadata": {},
   "source": [
    "1. Create a new file called \"grades_analysis.py\"\n",
    "2. Import the numpy library and create the \"grades\" array as specified above.\n",
    "3. Use numpy functions to calculate the mean, median, and standard deviation of the grades.\n",
    "4. Use numpy function to find the maximum and minimum of the grades.\n",
    "5. Use numpy function to sort the grades in ascending order.\n",
    "6. Use numpy function to find the index of the highest grade in the array.\n",
    "7. Use numpy function to count the number of students who scored above 90.\n",
    "8. Use numpy function to calculate the percentage of students who scored above 90.\n",
    "9. Use numpy function to calculate the percentage of students who scored below 75.\n",
    "10. Use numpy function to extract all the grades above 90 and put them in a new array called \"high_performers\".\n",
    "11. Create a new array called \"passing_grades\" that contains all the grades above 75.\n",
    "12. Print the result of all the above steps.\n",
    "\n",
    "**Note:**\n",
    "\n",
    "- to calculate percentage use **numpy.mean(grades > 90) * 100**\n",
    "- to extract the grades above 90 use grades **[grades > 90]**\n",
    "- to extract the grades above 75 use grades **[grades > 75]**\n",
    "\n",
    "You can use other numpy functions as well to analyze the data as you want. The above steps are just examples of what can be done."
   ]
  },
  {
   "cell_type": "code",
   "execution_count": 1,
   "id": "5163e66d",
   "metadata": {},
   "outputs": [],
   "source": [
    "#Import the numpy library  \n",
    "\n",
    "import numpy as np"
   ]
  },
  {
   "cell_type": "code",
   "execution_count": 2,
   "id": "a3bfb3cd",
   "metadata": {},
   "outputs": [],
   "source": [
    "#creating the \"grades\" array as specified above.\n",
    "\n",
    "grades = np.array([85, 90, 88, 92, 95, 80, 75, 98, 89, 83])"
   ]
  },
  {
   "cell_type": "code",
   "execution_count": 3,
   "id": "7d5c1f81",
   "metadata": {},
   "outputs": [
    {
     "name": "stdout",
     "output_type": "stream",
     "text": [
      "Mean value: 87.5\n",
      "Median value: 88.5\n",
      "Standard deviation: 6.5917\n"
     ]
    }
   ],
   "source": [
    "#Using numpy functions to calculate the mean, median, and standard deviation of the grades.\n",
    "mean_val = np.mean(grades)\n",
    "print(\"Mean value:\", mean_val.round(4))\n",
    "\n",
    "median_val = np.median(grades)\n",
    "print(\"Median value:\", median_val.round(4))\n",
    "\n",
    "std_dev_val = np.std(grades)\n",
    "print(\"Standard deviation:\", std_dev_val.round(4) )"
   ]
  },
  {
   "cell_type": "code",
   "execution_count": 4,
   "id": "973ea0d7",
   "metadata": {},
   "outputs": [
    {
     "name": "stdout",
     "output_type": "stream",
     "text": [
      "Maximum value: 98\n",
      "Minimum value: 75\n"
     ]
    }
   ],
   "source": [
    "#Using numpy function to find the maximum and minimum of the grades.\n",
    "max_val = np.max(grades)\n",
    "print(\"Maximum value:\", max_val)\n",
    "\n",
    "min_val = np.min(grades)\n",
    "print(\"Minimum value:\", min_val)"
   ]
  },
  {
   "cell_type": "code",
   "execution_count": 5,
   "id": "7845822a",
   "metadata": {},
   "outputs": [
    {
     "data": {
      "text/plain": [
       "array([75, 80, 83, 85, 88, 89, 90, 92, 95, 98])"
      ]
     },
     "execution_count": 5,
     "metadata": {},
     "output_type": "execute_result"
    }
   ],
   "source": [
    "#Using numpy function to sort the grades in ascending order\n",
    "\n",
    "sorted_arr = np.sort(grades)\n",
    "sorted_arr"
   ]
  },
  {
   "cell_type": "code",
   "execution_count": 6,
   "id": "566a718f",
   "metadata": {},
   "outputs": [
    {
     "data": {
      "text/plain": [
       "7"
      ]
     },
     "execution_count": 6,
     "metadata": {},
     "output_type": "execute_result"
    }
   ],
   "source": [
    "#Using numpy function to find the index of the highest grade in the array.\n",
    "\n",
    "highest_grade_idx = np.argmax(grades)\n",
    "highest_grade_idx"
   ]
  },
  {
   "cell_type": "code",
   "execution_count": 10,
   "id": "bc13a26f",
   "metadata": {},
   "outputs": [
    {
     "data": {
      "text/plain": [
       "3"
      ]
     },
     "execution_count": 10,
     "metadata": {},
     "output_type": "execute_result"
    }
   ],
   "source": [
    "#Using numpy function to count the number of students who scored above 90.\n",
    "\n",
    "above_90 = np.sum(grades > 90)\n",
    "above_90"
   ]
  },
  {
   "cell_type": "code",
   "execution_count": 11,
   "id": "d511eed0",
   "metadata": {},
   "outputs": [
    {
     "data": {
      "text/plain": [
       "30.0"
      ]
     },
     "execution_count": 11,
     "metadata": {},
     "output_type": "execute_result"
    }
   ],
   "source": [
    "#Using numpy function to calculate the percentage of students who scored above 90\n",
    "\n",
    "above_90_per = (above_90/len(grades)) * 100\n",
    "above_90_per"
   ]
  },
  {
   "cell_type": "code",
   "execution_count": 14,
   "id": "0d034300",
   "metadata": {},
   "outputs": [
    {
     "data": {
      "text/plain": [
       "0.0"
      ]
     },
     "execution_count": 14,
     "metadata": {},
     "output_type": "execute_result"
    }
   ],
   "source": [
    "#Using numpy function to calculate the percentage of students who scored below 75\n",
    "\n",
    "above_75_per = ((np.sum(grades < 75))/len(grades)) * 100\n",
    "above_75_per"
   ]
  },
  {
   "cell_type": "code",
   "execution_count": 15,
   "id": "11d9edc3",
   "metadata": {},
   "outputs": [
    {
     "data": {
      "text/plain": [
       "array([92, 95, 98])"
      ]
     },
     "execution_count": 15,
     "metadata": {},
     "output_type": "execute_result"
    }
   ],
   "source": [
    "#Using numpy function to extract all the grades above 90 and put them in a new array called\n",
    "#\"high_performers\".\n",
    "\n",
    "high_performers = grades[grades > 90]\n",
    "high_performers"
   ]
  },
  {
   "cell_type": "code",
   "execution_count": 16,
   "id": "586679dc",
   "metadata": {},
   "outputs": [
    {
     "data": {
      "text/plain": [
       "array([85, 90, 88, 92, 95, 80, 98, 89, 83])"
      ]
     },
     "execution_count": 16,
     "metadata": {},
     "output_type": "execute_result"
    }
   ],
   "source": [
    "#Creating a new array called \"passing_grades\" that contains all the grades above 75.\n",
    "\n",
    "passing_grades = grades[grades > 75]\n",
    "passing_grades"
   ]
  },
  {
   "cell_type": "code",
   "execution_count": 17,
   "id": "2b19d4f0",
   "metadata": {},
   "outputs": [
    {
     "name": "stdout",
     "output_type": "stream",
     "text": [
      "Grade Analysis:\n",
      "----------------\n",
      "Grades: [85 90 88 92 95 80 75 98 89 83]\n",
      "\n",
      "Mean grade: 87.5\n",
      "\n",
      "Median grade: 88.5\n",
      "\n",
      "Standard Deviation of grades: 6.591661399070799\n",
      "\n",
      "Maximum grade: 98\n",
      "\n",
      "Minimum grade: 75\n",
      "\n",
      "Sorted grades: [75 80 83 85 88 89 90 92 95 98]\n",
      "\n",
      "Index of Highest grade: 7\n",
      "\n",
      "Number of students with grades Above 90: 3\n",
      "\n",
      "Percentage of students with grades Above 90%: 30.0\n",
      "\n",
      "High performers (grades Above 90): [92 95 98]\n",
      "\n",
      "Good performers (grades Above 75): [85 90 88 92 95 80 98 89 83]\n"
     ]
    }
   ],
   "source": [
    "print(\"Grade Analysis:\")\n",
    "print(\"----------------\")\n",
    "print(\"Grades:\", grades)\n",
    "print()\n",
    "print(\"Mean grade:\", mean_val)\n",
    "print()\n",
    "print(\"Median grade:\", median_val)\n",
    "print()\n",
    "print(\"Standard Deviation of grades:\", std_dev_val)\n",
    "print()\n",
    "print(\"Maximum grade:\", max_val)\n",
    "print()\n",
    "print(\"Minimum grade:\", min_val)\n",
    "print()\n",
    "print(\"Sorted grades:\", sorted_arr)\n",
    "print()\n",
    "print(\"Index of Highest grade:\",highest_grade_idx)\n",
    "print()\n",
    "print(\"Number of students with grades Above 90:\", above_90)\n",
    "print()\n",
    "print(\"Percentage of students with grades Above 90%:\", above_90_per)\n",
    "print()\n",
    "print(\"High performers (grades Above 90):\", high_performers)\n",
    "print()\n",
    "print(\"Good performers (grades Above 75):\", passing_grades)\n"
   ]
  }
 ],
 "metadata": {
  "kernelspec": {
   "display_name": "Python 3 (ipykernel)",
   "language": "python",
   "name": "python3"
  },
  "language_info": {
   "codemirror_mode": {
    "name": "ipython",
    "version": 3
   },
   "file_extension": ".py",
   "mimetype": "text/x-python",
   "name": "python",
   "nbconvert_exporter": "python",
   "pygments_lexer": "ipython3",
   "version": "3.11.3"
  }
 },
 "nbformat": 4,
 "nbformat_minor": 5
}
