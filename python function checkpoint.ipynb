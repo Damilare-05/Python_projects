{
 "cells": [
  {
   "cell_type": "markdown",
   "id": "6540d01e",
   "metadata": {},
   "source": [
    "## PYTHON FUNCTIONS CHECKPOINT"
   ]
  },
  {
   "cell_type": "markdown",
   "id": "bc6669d5",
   "metadata": {},
   "source": [
    "**Create a calculator program that allows the user to perform mathematical operations on two numbers using basic functions and a dictionary to store the operations. The program should also have the ability to continue calculations with the result of previous calculations.**\n",
    "\n",
    "\n",
    "***Instructions***\n",
    "\n",
    "1. Create four basic mathematical functions: 'add', 'subtract', 'multiply', and 'divide' that take in two numbers and return the result of the operation.\n",
    "2. Create a dictionary 'operations' that assigns the functions to their corresponding operation symbols.\n",
    "3. Create a function 'calculator' that prompts the user to input the first number.\n",
    "4. Use a for loop to print the available operation symbols.\n",
    "5. Create a while loop that will continue to run until the user chooses to end the current calculation.\n",
    "6. Inside the while loop, prompt the user to select an operation symbol.\n",
    "7. Prompt the user to input the second number.\n",
    "8. Use the dictionary to retrieve the function that corresponds to the selected operation symbol and store it in a variable 'calculation_function'\n",
    "9. Perform the calculation by calling the 'calculation_function' on the two input numbers and store the result in a variable 'answer'.\n",
    "10. Print the equation and the result of the calculation.\n",
    "11. Ask the user if they would like to continue using the result as the first number for further calculations.\n",
    "12. If the user chooses to continue, update the 'num1' variable to the value of 'answer'.\n",
    "13. If the user chooses to start a new calculation, set the 'should_continue' variable to false and call the 'calculator' function to start a new calculation.\n",
    "\n",
    "***Note: Make sure to test the program with different inputs and operations to ensure that it is functioning properly.***"
   ]
  },
  {
   "cell_type": "code",
   "execution_count": 1,
   "id": "c30b3b62",
   "metadata": {},
   "outputs": [],
   "source": [
    "#Create four basic mathematical functions: \n",
    "#'add', 'subtract', 'multiply', and 'divide' \n",
    "#that take in two numbers and return the result of the operation."
   ]
  },
  {
   "cell_type": "code",
   "execution_count": 2,
   "id": "3d8fbe6c",
   "metadata": {},
   "outputs": [],
   "source": [
    "#add function\n",
    "\n",
    "def add(a, b):\n",
    "    return a + b\n",
    "\n",
    "#subtract function\n",
    "def subtract(a, b):\n",
    "    return a - b\n",
    "\n",
    "#multiply function\n",
    "def multiply(a, b):\n",
    "    return a * b\n",
    "\n",
    "#divide function\n",
    "def divide(a, b):\n",
    "    return a / b\n",
    "\n"
   ]
  },
  {
   "cell_type": "code",
   "execution_count": 3,
   "id": "d64811da",
   "metadata": {},
   "outputs": [],
   "source": [
    "#Create a dictionary 'operations' that assigns the functions to their corresponding operation symbols."
   ]
  },
  {
   "cell_type": "code",
   "execution_count": 10,
   "id": "4a8cf33b",
   "metadata": {},
   "outputs": [],
   "source": [
    "operation = {'+': add, \n",
    "            '-': subtract, \n",
    "            '*': multiply, \n",
    "            '/': divide}"
   ]
  },
  {
   "cell_type": "code",
   "execution_count": 13,
   "id": "e4951c96",
   "metadata": {},
   "outputs": [],
   "source": [
    "#Create a function 'calculator' that prompts the user to input the first number."
   ]
  },
  {
   "cell_type": "code",
   "execution_count": 20,
   "id": "e596b3f4",
   "metadata": {},
   "outputs": [],
   "source": [
    "def calculator():\n",
    "    print(\"Hi, welcome to YourCalculator!\")\n",
    "    print(\"------------------------------\")\n",
    "    \n",
    "    #prompt user for the first number\n",
    "    num1 = float(input(\"Enter the first number: \"))\n",
    "    \n",
    "    \n",
    "    # for loop to print the available operation symbols\n",
    "    for operations, functions in operation.items():\n",
    "        print(operations)\n",
    "    print()    \n",
    "    \n",
    "    #setting should_continue variable to true\n",
    "    should_continue = True \n",
    "    \n",
    "    while should_continue:\n",
    "        \n",
    "        #prompt user for the operation symbol\n",
    "        operation_symbol = input(\"Select an operation symbol: \")\n",
    "        print()\n",
    "        \n",
    "        #Using the dictionary to retrieve the function that corresponds to the selected operation symbol\n",
    "        calculation_function = operation.get(operation_symbol)\n",
    "        \n",
    "        if calculation_function:\n",
    "            #prompt user for the second number\n",
    "            num2 = float(input(\"Enter the second number: \"))\n",
    "            print()\n",
    "            \n",
    "            # Perform the calculation\n",
    "            answer = calculation_function(num1, num2)\n",
    "            print(f\"{num1} {operation_symbol} {num2} = {answer}\")\n",
    "            print()\n",
    "            \n",
    "             # Ask if user wants to continue\n",
    "            choice = input(\"would you like to continue using the result as the first number for further calculations? Yes/No: \").lower()\n",
    "            print()\n",
    "            \n",
    "            if choice == 'yes':\n",
    "                num1 = answer\n",
    "            else:\n",
    "                should_continue = False\n",
    "        else:\n",
    "            print(f\"Error: Invalid operation symbol '{operation_symbol}'\")  \n",
    "        "
   ]
  },
  {
   "cell_type": "code",
   "execution_count": 21,
   "id": "857eac80",
   "metadata": {},
   "outputs": [
    {
     "name": "stdout",
     "output_type": "stream",
     "text": [
      "Hi, welcome to YourCalculator!\n",
      "------------------------------\n",
      "Enter the first number: 2\n",
      "+\n",
      "-\n",
      "*\n",
      "/\n",
      "\n",
      "Select an operation symbol: -\n",
      "\n",
      "Enter the second number: 1\n",
      "\n",
      "2.0 - 1.0 = 1.0\n",
      "\n",
      "would you like to continue using the result as the first number for further calculations? Yes/No: yes\n",
      "\n",
      "Select an operation symbol: +\n",
      "\n",
      "Enter the second number: 14\n",
      "\n",
      "1.0 + 14.0 = 15.0\n",
      "\n",
      "would you like to continue using the result as the first number for further calculations? Yes/No: yes\n",
      "\n",
      "Select an operation symbol: +\n",
      "\n",
      "Enter the second number: 10\n",
      "\n",
      "15.0 + 10.0 = 25.0\n",
      "\n",
      "would you like to continue using the result as the first number for further calculations? Yes/No: yes\n",
      "\n",
      "Select an operation symbol: /\n",
      "\n",
      "Enter the second number: 3\n",
      "\n",
      "25.0 / 3.0 = 8.333333333333334\n",
      "\n",
      "would you like to continue using the result as the first number for further calculations? Yes/No: yes\n",
      "\n",
      "Select an operation symbol: *\n",
      "\n",
      "Enter the second number: 3\n",
      "\n",
      "8.333333333333334 * 3.0 = 25.0\n",
      "\n",
      "would you like to continue using the result as the first number for further calculations? Yes/No: yes\n",
      "\n",
      "Select an operation symbol: /\n",
      "\n",
      "Enter the second number: 5\n",
      "\n",
      "25.0 / 5.0 = 5.0\n",
      "\n",
      "would you like to continue using the result as the first number for further calculations? Yes/No: no\n",
      "\n"
     ]
    }
   ],
   "source": [
    "calculator()"
   ]
  }
 ],
 "metadata": {
  "kernelspec": {
   "display_name": "Python 3 (ipykernel)",
   "language": "python",
   "name": "python3"
  },
  "language_info": {
   "codemirror_mode": {
    "name": "ipython",
    "version": 3
   },
   "file_extension": ".py",
   "mimetype": "text/x-python",
   "name": "python",
   "nbconvert_exporter": "python",
   "pygments_lexer": "ipython3",
   "version": "3.11.3"
  }
 },
 "nbformat": 4,
 "nbformat_minor": 5
}
