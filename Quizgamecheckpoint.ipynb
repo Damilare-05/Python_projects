{
 "cells": [
  {
   "cell_type": "markdown",
   "id": "1f687613-b516-46c4-9854-cfc6d8276f1f",
   "metadata": {},
   "source": [
    "# Interactive Python Quiz Game"
   ]
  },
  {
   "cell_type": "markdown",
   "id": "1f84325b-238a-4e10-999c-404cd693f24a",
   "metadata": {},
   "source": [
    "The Interactive Python Quiz Game is a text-based application that presents a series of multiple-choice questions to the user. The game provides instant feedback on each answer and keeps track of the user's score throughout the quiz. This project can be further enhanced with additional features such as random question order, a timer for each question, high score tracking, and a graphical user interface (GUI) using libraries like tkinter."
   ]
  },
  {
   "cell_type": "markdown",
   "id": "909256fe-bb30-498a-b125-e0af08df1b52",
   "metadata": {},
   "source": [
    "**Instructions**\n",
    "\n",
    "**Question and Answer Handling:**\n",
    "- Display multiple-choice questions to the user.\n",
    "- Capture and validate user inputs.\n",
    "- Provide immediate feedback on the correctness of answers.\n",
    "\n",
    "**Score Tracking:**\n",
    "- Keep track of the user's score throughout the quiz.\n",
    "- Display the final score at the end of the quiz.\n",
    "\n",
    "**Randomization:**\n",
    "- Randomly shuffle the order of questions for each game session to enhance replayability.\n",
    "\n",
    "**User Interaction:**\n",
    "- Simple and intuitive user prompts to navigate through the quiz.\n",
    "\n",
    "**Optional Enhancements:**\n",
    "- Implement a timer for each question to add a time-based challenge.\n",
    "- Store and display high scores from previous sessions.\n",
    "- Develop a graphical user interface (GUI) using tkinter for a more interactive experience."
   ]
  },
  {
   "cell_type": "code",
   "execution_count": 1,
   "id": "728f4897-0002-44ff-9e44-52b9fee89c0e",
   "metadata": {
    "tags": []
   },
   "outputs": [],
   "source": [
    "#importing necessary libraries\n",
    "import tkinter as tk\n",
    "from tkinter import messagebox"
   ]
  },
  {
   "cell_type": "code",
   "execution_count": 2,
   "id": "4777fb3f-7637-48c5-87a7-f7147bfaf2a1",
   "metadata": {
    "tags": []
   },
   "outputs": [],
   "source": [
    "#assigning tk object to a variable\n",
    "root = tk.Tk()"
   ]
  },
  {
   "cell_type": "code",
   "execution_count": 3,
   "id": "8a33fa30-3edc-48f5-b281-86dfc93bf53b",
   "metadata": {
    "tags": []
   },
   "outputs": [
    {
     "data": {
      "text/plain": [
       "''"
      ]
     },
     "execution_count": 3,
     "metadata": {},
     "output_type": "execute_result"
    }
   ],
   "source": [
    "#defining the size of the windows\n",
    "root.geometry(\"800x500\")\n",
    "root.title(\"Quiz Game\")"
   ]
  },
  {
   "cell_type": "code",
   "execution_count": 4,
   "id": "85d1446b-2a00-406a-ae43-69bd09991e5c",
   "metadata": {
    "tags": []
   },
   "outputs": [],
   "source": [
    "questions = [\n",
    "    {\"question\": \"What is the capital of Lagos?\",\n",
    "     \"options\": [\"Yaba\", \"Ikeja\", \"Ikorodu\", \"Lekki\"],\n",
    "     \"correct_answer\": 1},\n",
    "    \n",
    "     {\"question\": \"How many states are in Nigeria?\",\n",
    "     \"options\": [\"12\", \"34\", \"39\", \"36\"],\n",
    "     \"correct_answer\": 3},\n",
    "    \n",
    "     {\"question\": \"How many Primary colors do we have?\",\n",
    "     \"options\": [\"2\", \"5\", \"3\", \"7\"],\n",
    "     \"correct_answer\": 2},\n",
    "    \n",
    "     {\"question\": \"What do plants breathe in?\",\n",
    "     \"options\": [\"C02\", \"H2O\", \"02\", \"H2SO4\"],\n",
    "     \"correct_answer\": 0},\n",
    "    \n",
    "     {\"question\": \"What is Mass x Acceleration?\",\n",
    "     \"options\": [\"Velocity\", \"Pressure\", \"Force\", \"Viscosity\"],\n",
    "     \"correct_answer\": 2}\n",
    "]"
   ]
  },
  {
   "cell_type": "code",
   "execution_count": 5,
   "id": "f1c7e9a6-c8ec-414d-9ac9-39a5034fcb88",
   "metadata": {
    "tags": []
   },
   "outputs": [],
   "source": [
    "current_question = 0\n",
    "score = 0"
   ]
  },
  {
   "cell_type": "code",
   "execution_count": 6,
   "id": "4b26c350-9e2d-4051-9ac0-53b12e926236",
   "metadata": {
    "tags": []
   },
   "outputs": [],
   "source": [
    "# Labels and buttons\n",
    "question_label = tk.Label(root, text=\"\", font=(\"Arial\", 16))\n",
    "option_buttons = []\n",
    "for i in range(4):\n",
    "    button = tk.Button(root, text=\"\", width=20, command=lambda i=i: check_answer(i))\n",
    "    option_buttons.append(button)\n",
    "\n",
    "score_label = tk.Label(root, text=\"Score: 0\", font=(\"Arial\", 12))\n",
    "\n",
    "def display_question():\n",
    "    global current_question\n",
    "    question = questions[current_question]\n",
    "    question_label.config(text=question[\"question\"])\n",
    "    for i, option in enumerate(question[\"options\"]):\n",
    "        option_buttons[i].config(text=option)\n",
    "    current_question += 1\n",
    "\n",
    "def check_answer(index):\n",
    "    global score\n",
    "    if index == questions[current_question - 1][\"correct_answer\"]:\n",
    "        score += 1\n",
    "        messagebox.showinfo(\"Correct!\", \"Your answer is correct!\")\n",
    "    else:\n",
    "        messagebox.showinfo(\"Incorrect\", \"The correct answer is: \" + questions[current_question - 1][\"options\"][questions[current_question - 1][\"correct_answer\"]])\n",
    "    score_label.config(text=f\"Score: {score}\")\n",
    "    if current_question < len(questions):\n",
    "        display_question()\n",
    "    else:\n",
    "        messagebox.showinfo(\"Quiz Over\", f\"Your final score is: {score} out of 5\")\n",
    "\n",
    "# Place widgets on the root window\n",
    "question_label.pack(padx = 10, pady = 10)\n",
    "for button in option_buttons:\n",
    "    button.pack(padx = 10, pady = 10)\n",
    "score_label.pack(padx = 5, pady = 5)"
   ]
  },
  {
   "cell_type": "code",
   "execution_count": 7,
   "id": "d9d5f0ef-baf6-472c-b64e-3db00a641c94",
   "metadata": {
    "tags": []
   },
   "outputs": [],
   "source": [
    "display_question()\n",
    "root.mainloop()"
   ]
  },
  {
   "cell_type": "code",
   "execution_count": null,
   "id": "f42d738f-bba7-44df-999e-2c1fcef6d269",
   "metadata": {},
   "outputs": [],
   "source": []
  },
  {
   "cell_type": "code",
   "execution_count": null,
   "id": "e1f14007-7baa-4c65-ab51-0c22ac2f1a8b",
   "metadata": {},
   "outputs": [],
   "source": []
  },
  {
   "cell_type": "code",
   "execution_count": null,
   "id": "ffb8c385-4cbf-44a7-9dd3-610e2ecc77be",
   "metadata": {},
   "outputs": [],
   "source": []
  },
  {
   "cell_type": "code",
   "execution_count": null,
   "id": "80437f9c-183c-429b-b515-908ae27facc2",
   "metadata": {},
   "outputs": [],
   "source": []
  }
 ],
 "metadata": {
  "kernelspec": {
   "display_name": "Python 3 (ipykernel)",
   "language": "python",
   "name": "python3"
  },
  "language_info": {
   "codemirror_mode": {
    "name": "ipython",
    "version": 3
   },
   "file_extension": ".py",
   "mimetype": "text/x-python",
   "name": "python",
   "nbconvert_exporter": "python",
   "pygments_lexer": "ipython3",
   "version": "3.11.3"
  }
 },
 "nbformat": 4,
 "nbformat_minor": 5
}
