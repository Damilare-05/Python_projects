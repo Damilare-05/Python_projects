{
 "cells": [
  {
   "cell_type": "markdown",
   "id": "e1cf3d74",
   "metadata": {},
   "source": [
    "## PYTHON CHECKPOINT "
   ]
  },
  {
   "cell_type": "markdown",
   "id": "d6587a43",
   "metadata": {},
   "source": [
    "Congratulations, you've got a job at Python Pizza. Your first job is to build an automatic pizza order program. Based on a user's order, work out their final bill.\n",
    "\n",
    " ```Small Pizza: $15 ``` ``` \n",
    "\n",
    "``` Medium Pizza: $20 ``` \n",
    "\n",
    "``` Large Pizza: $25 ``` \n",
    "\n",
    "If they want to add pepperoni :\n",
    "\n",
    "``` Pepperoni for Small Pizza: +$2 ``` \n",
    "\n",
    "``` Pepperoni for Medium or Large Pizza: +$3 ```\n",
    "\n",
    "If they want cheese :\n",
    "\n",
    " ``` Extra cheese for any size pizza: + $1 ```"
   ]
  },
  {
   "cell_type": "markdown",
   "id": "343c23ff",
   "metadata": {},
   "source": [
    "#### Instructions\n",
    "\n",
    "1. Open a new file in your Python development environment or IDE.\n",
    "2. Begin by typing the line 'Welcome to Python Pizza Deliveries' which will display a welcome message when the code is run.\n",
    "3. Add a line that prompts the user for the size of the pizza they want using the input() function and stores the user's input in a variable named 'size'.\n",
    "4. Add a line that prompts the user if they want pepperoni on their pizza using the input() function and stores the user's input in a variable named 'add_pepperoni'.\n",
    "5. Add a line that prompts the user if they want extra cheese on their pizza using the input() function and stores the user's input in a variable named 'extra_cheese'.\n",
    "6. Check your code for any syntax errors or mistakes.\n",
    "7. Run the code and test it by providing inputs for size, pepperoni, and extra cheese.\n",
    "\n",
    "Example Input\n",
    "\n",
    "size = \"L\"\n",
    "\n",
    "add_pepperoni = \"Y\"\n",
    "\n",
    "extra_cheese = \"N\"\n",
    "\n",
    "Example Output\n",
    "\n",
    "Your final bill is: $28.\n",
    "\n",
    "When you hit **run**, this is what should happen"
   ]
  },
  {
   "cell_type": "code",
   "execution_count": 10,
   "id": "6e0dbbf4",
   "metadata": {},
   "outputs": [
    {
     "name": "stdout",
     "output_type": "stream",
     "text": [
      "Welcome to Python Pizza Deliveries\n",
      "\n",
      "Enter size of pizza \n",
      "'L' for large, 'M' for Medium, 'S' for Small: medium\n",
      "\n",
      "Would you like to add Pepperoni? Y/N: y\n",
      "\n",
      "Extra cheese? Y/N: y\n",
      "\n",
      "Your total bill is 24\n",
      "Thank you!\n"
     ]
    }
   ],
   "source": [
    "print(\"Welcome to Python Pizza Deliveries\")\n",
    "print()\n",
    "size = input(\"Enter size of pizza \\n'L' for large, 'M' for Medium, 'S' for Small: \")\n",
    "print()\n",
    "add_pepperoni = input(\"Would you like to add Pepperoni? Y/N: \")\n",
    "print()\n",
    "extra_cheese = input(\"Extra cheese? Y/N: \")\n",
    "print()\n",
    "\n",
    "if size == \"S\" or size == \"s\" or size == \"small\" or size == \"Small\":\n",
    "    bill = 15\n",
    "    if add_pepperoni == \"Y\" or add_pepperoni == \"y\":\n",
    "        bill += 2\n",
    "    if extra_cheese == \"Y\" or extra_cheese == \"y\":\n",
    "        bill += 1\n",
    "    print(\"Your total bill is\", bill)\n",
    "            \n",
    "elif size == \"M\" or size == \"m\" or size == \"medium\" or size == \"Medium\":\n",
    "    bill = 20\n",
    "    if add_pepperoni == \"Y\" or add_pepperoni == \"y\":\n",
    "        bill += 3\n",
    "    if extra_cheese == \"Y\" or extra_cheese == \"y\":\n",
    "        bill += 1 \n",
    "    print(\"Your total bill is\", bill)\n",
    "    \n",
    "elif size == \"L\" or size == \"L\" or size == \"large\" or size == \"Large\":\n",
    "    bill = 25\n",
    "    if add_pepperoni == \"Y\" or add_pepperoni == \"y\":\n",
    "        bill += 3\n",
    "    if extra_cheese == \"Y\" or extra_cheese == \"y\":\n",
    "        bill += 1 \n",
    "    print(\"Your total bill is\", bill) \n",
    "    \n",
    "else: \n",
    "    print(\"Enter a correct input please.\")\n",
    "\n",
    "print(\"Thank you!\")"
   ]
  },
  {
   "cell_type": "code",
   "execution_count": null,
   "id": "4c3a4507",
   "metadata": {},
   "outputs": [],
   "source": []
  },
  {
   "cell_type": "code",
   "execution_count": null,
   "id": "8533c597",
   "metadata": {},
   "outputs": [],
   "source": []
  },
  {
   "cell_type": "code",
   "execution_count": null,
   "id": "e14e7fc0",
   "metadata": {},
   "outputs": [],
   "source": []
  },
  {
   "cell_type": "code",
   "execution_count": null,
   "id": "267df8d3",
   "metadata": {},
   "outputs": [],
   "source": []
  }
 ],
 "metadata": {
  "kernelspec": {
   "display_name": "Python 3 (ipykernel)",
   "language": "python",
   "name": "python3"
  },
  "language_info": {
   "codemirror_mode": {
    "name": "ipython",
    "version": 3
   },
   "file_extension": ".py",
   "mimetype": "text/x-python",
   "name": "python",
   "nbconvert_exporter": "python",
   "pygments_lexer": "ipython3",
   "version": "3.11.3"
  }
 },
 "nbformat": 4,
 "nbformat_minor": 5
}
