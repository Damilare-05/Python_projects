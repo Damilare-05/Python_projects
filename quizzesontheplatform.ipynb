{
 "cells": [
  {
   "cell_type": "markdown",
   "id": "fdc5278a",
   "metadata": {},
   "source": [
    "### Quizzes on the platform "
   ]
  },
  {
   "cell_type": "markdown",
   "id": "9f154662",
   "metadata": {},
   "source": [
    "#### Instructions :\n",
    "Look at the code in the code editor on the left. There are errors in all of the lines of code. Fix the code so that it runs without errors.\n",
    "\n",
    "print(Day 1 - String Manipulation\")\n",
    "\n",
    "print(\"String Concatenation is done with the \"+\" sign.\")\n",
    "\n",
    "print('e.g. print(\"Hello \" + \"world\")')\n",
    "\n",
    "print((\"New lines can be created with a backslash and n.\")"
   ]
  },
  {
   "cell_type": "code",
   "execution_count": 10,
   "id": "6a1d3cc6",
   "metadata": {},
   "outputs": [
    {
     "name": "stdout",
     "output_type": "stream",
     "text": [
      "Day 1 - String Manipulation\n",
      "String Concatenation is done with the \"+\" sign.\n",
      "e.g. print(\"Hello \" + \"world\")\n",
      "New lines can be created with a backslash and n.\n"
     ]
    }
   ],
   "source": [
    "print(\"Day 1 - String Manipulation\")\n",
    "print('String Concatenation is done with the \"+\" sign.')\n",
    "print('e.g. print(\"Hello \" + \"world\")')\n",
    "print(\"New lines can be created with a backslash and n.\")"
   ]
  },
  {
   "cell_type": "markdown",
   "id": "41ad283e",
   "metadata": {},
   "source": [
    "#### Instructions :\n",
    "\n",
    "Create a variable called \"number\" and assign any integer value to it.\n",
    "\n",
    "Use an if-else statement to check if the number is even or odd. You can use the modulo operator (%), which returns the remainder of a division operation, to check if the number is divisible by 2. If the remainder is 0, the number is even, otherwise it is odd.\n",
    "\n",
    "You can also use logical operator \"and\" to check if the number is divisible by 2 and greater than 10.\n",
    "\n",
    "You can use logical operator \"or\" to check if the number is either divisible by 2 or greater than 10."
   ]
  },
  {
   "cell_type": "code",
   "execution_count": 11,
   "id": "6dfef3c6",
   "metadata": {},
   "outputs": [
    {
     "name": "stdout",
     "output_type": "stream",
     "text": [
      "Number is divisible by 2 and greater than 10\n",
      "it is an even number too\n"
     ]
    }
   ],
   "source": [
    "number = 18 \n",
    "\n",
    "if number % 2 == 0 and number >= 10:\n",
    "    print(\"Number is divisible by 2 and greater than 10\")\n",
    "    print(\"it is an even number too\")\n",
    "else:\n",
    "    print(\"The number is odd\")"
   ]
  },
  {
   "cell_type": "markdown",
   "id": "20a3e01b",
   "metadata": {},
   "source": [
    "#### Instructions :\n",
    "Create a program using maths and f-Strings that tells us how many days, weeks, months we have left if we live until 90 years old.\n",
    "\n",
    "It will take your current age as the input and output a message with our time left in this format:\n",
    "\n",
    "You have x days, y weeks, and z months left.\n",
    "\n",
    "Where x, y and z are replaced with the actual calculated numbers.\n",
    "\n",
    "Example Input :\n",
    "\n",
    "56\n",
    "\n",
    "Example Output:\n",
    "\n",
    "You have 12410 days, 1768 weeks, and 408 months left."
   ]
  },
  {
   "cell_type": "code",
   "execution_count": 14,
   "id": "9545c4af",
   "metadata": {},
   "outputs": [
    {
     "name": "stdout",
     "output_type": "stream",
     "text": [
      "A calculator to check how many day, weeks and months left until you are 90\n",
      "Enter your current age: 18\n",
      "You have 26280 days, 3744 weeks, and 864 months left.\n"
     ]
    }
   ],
   "source": [
    "print(\"A calculator to check how many day, weeks and months left until you are 90\")\n",
    "\n",
    "#user input\n",
    "current_age = int(input(\"Enter your current age: \"))\n",
    "\n",
    "#convert 90 years to days, months, weeks\n",
    "year_90_to_days = 90 * 365\n",
    "year_90_to_weeks = 90 * 52\n",
    "year_90_to_months = 90 * 12\n",
    "\n",
    "\n",
    "#convert user's age to days, months and weeks\n",
    "current_age_to_days = current_age * 365\n",
    "current_age_to_weeks = current_age * 52\n",
    "current_age_to_months = current_age * 12\n",
    "\n",
    "#getting the difference\n",
    "days = year_90_to_days - current_age_to_days\n",
    "weeks = year_90_to_weeks - current_age_to_weeks\n",
    "months = year_90_to_months - current_age_to_months\n",
    "\n",
    "print(f\"You have {days} days, {weeks} weeks, and {months} months left.\")"
   ]
  },
  {
   "cell_type": "markdown",
   "id": "4b346b5f",
   "metadata": {},
   "source": [
    "#### Instructions :\n",
    "you will be building a program that generates a band name based on the city you grew up in and the name of your pet.\n",
    "\n",
    "To complete the project, you will need to use skills such as printing inputs, variables, new lines, string manipulation, and debugging.\n",
    "\n",
    "Example Output:\n",
    "\n",
    "1. Create a greeting for your program.\n",
    "2. Ask the user for the city that they grew up in.\n",
    "3. Ask the user for the name of a pet.\n",
    "4. Combine the name of their city and pet and show them their band name.\n",
    "5. Make sure the input cursor shows on a new line:"
   ]
  },
  {
   "cell_type": "code",
   "execution_count": 15,
   "id": "496abdc5",
   "metadata": {},
   "outputs": [
    {
     "name": "stdout",
     "output_type": "stream",
     "text": [
      "Hello!\n",
      "I will help you create a unique band name!\n",
      "Enter your city name: lagos\n",
      "Enter your pet name: lucky\n",
      "Your band name is  lagoslucky\n"
     ]
    }
   ],
   "source": [
    "print(\"Hello!\")\n",
    "print(\"I will help you create a unique band name!\")\n",
    "\n",
    "city_name = input(\"Enter your city name: \")\n",
    "pet_name = input(\"Enter your pet name: \")\n",
    "\n",
    "band_name = city_name + pet_name\n",
    "\n",
    "print(\"Your band name is \", band_name)"
   ]
  },
  {
   "cell_type": "markdown",
   "id": "4e7fc935",
   "metadata": {},
   "source": [
    "#### Instructions :\n",
    "Write a program that adds the digits in a 2 digit number. e.g. \n",
    "if the input was 35, then the output should be 3 + 5 = 8\n",
    "\n",
    "**Example Input :**\n",
    "\n",
    "39\n",
    "\n",
    "**Example Output**\n",
    "\n",
    "3 + 9 = 12\n",
    "\n",
    "**Hint**\n",
    "\n",
    "1. Try to find out the data type of two_digit_number.\n",
    "2. Think about what you learnt about subscripting.\n",
    "3. Think about type conversion."
   ]
  },
  {
   "cell_type": "code",
   "execution_count": 17,
   "id": "d25550a2",
   "metadata": {},
   "outputs": [
    {
     "name": "stdout",
     "output_type": "stream",
     "text": [
      "Hi!\n",
      "Enter a 2 digit number: 56\n",
      "5 + 6 = 11\n"
     ]
    }
   ],
   "source": [
    "print(\"Hi!\")\n",
    "\n",
    "digit = input(\"Enter a 2 digit number: \")\n",
    "\n",
    "num1 = int(digit[0])\n",
    "num2 = int(digit[1])\n",
    "\n",
    "print(f\"{num1} + {num2} =\", num1 + num2)\n"
   ]
  }
 ],
 "metadata": {
  "kernelspec": {
   "display_name": "Python 3 (ipykernel)",
   "language": "python",
   "name": "python3"
  },
  "language_info": {
   "codemirror_mode": {
    "name": "ipython",
    "version": 3
   },
   "file_extension": ".py",
   "mimetype": "text/x-python",
   "name": "python",
   "nbconvert_exporter": "python",
   "pygments_lexer": "ipython3",
   "version": "3.11.3"
  }
 },
 "nbformat": 4,
 "nbformat_minor": 5
}
