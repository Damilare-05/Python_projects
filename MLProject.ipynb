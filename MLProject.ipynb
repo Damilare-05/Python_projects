{
 "cells": [
  {
   "cell_type": "markdown",
   "id": "102c8c4c-034d-4e39-a3b6-a52d177bf819",
   "metadata": {},
   "source": [
    "# Supervised Learning Regression Checkpoint"
   ]
  },
  {
   "cell_type": "markdown",
   "id": "e36675b5-8432-439a-8e18-6cced266292f",
   "metadata": {},
   "source": [
    "## 5G-Energy consumption"
   ]
  },
  {
   "cell_type": "markdown",
   "id": "56371947-bb6b-42b1-81b7-25cbfca19fec",
   "metadata": {},
   "source": [
    "In this checkpoint, I am going to work on the '5G-Energy consumption' dataset that was provided by the  international telecommunication union (ITU) in 2023 as part of a global challenge or competition for data scientists all over the world to solve the 5G energy consumption modelling using machine learning techniques.\n",
    "\n",
    "**Checkpoint problematic :**\n",
    "Network operational expenditure (OPEX) already accounts for around 25 percent of the total telecom operator’s cost, and 90 percent of it is spent on large energy bills. More than 70 percent of this energy is estimated to be consumed by the radio access network (RAN), particularly by the base stations (BSs). Thus, the objective is to build and train a ML model to estimate the energy consumed by different 5G base stations taking into consideration the impact of various engineering configurations, traffic conditions, and energy-saving methods.\n",
    "\n",
    "**Dataset description :**\n",
    "This dataset is derived from the original copy and simplified for learning purposes. It includes cell-level traffic statistics of 4G/5G sites collected on different days."
   ]
  },
  {
   "cell_type": "markdown",
   "id": "e55419ff-4a26-4077-bf15-043d18fcbfc2",
   "metadata": {},
   "source": [
    "**Steps to follow**\n",
    "- Import you data and perform basic data exploration phase\n",
    "- Display general information about the dataset\n",
    "- Create a pandas profiling reports to gain insights into the dataset\n",
    "- Handle Missing and corrupted values\n",
    "- Remove duplicates, if they exist\n",
    "- Handle outliers, if they exist\n",
    "- Encode categorical features\n",
    "- Select your target variable and the features\n",
    "- Split your dataset to training and test sets\n",
    "- Based on your data exploration phase select a ML regression algorithm and train it on the training set\n",
    "- Assess your model performance on the test set using relevant evaluation metrics\n",
    "- Discuss with your cohort alternative ways to improve your model performance"
   ]
  },
  {
   "cell_type": "markdown",
   "id": "6d587ec3-cc5b-4c80-bcd3-925a36059fe0",
   "metadata": {},
   "source": [
    "#### Importing necessary libraries"
   ]
  },
  {
   "cell_type": "code",
   "execution_count": 1,
   "id": "7da12bc4-6a18-4cf7-b6dc-0ba4001e9b6c",
   "metadata": {},
   "outputs": [],
   "source": [
    "import numpy as np\n",
    "import pandas as pd \n",
    "import seaborn as sns\n",
    "import matplotlib.pyplot as plt\n",
    "import category_encoders as ce\n",
    "\n",
    "from sklearn.preprocessing import LabelEncoder\n",
    "from sklearn.model_selection import train_test_split\n",
    "from sklearn.linear_model import LinearRegression\n",
    "from xgboost import XGBRegressor\n",
    "from sklearn import metrics\n",
    "from sklearn.metrics import mean_absolute_error, mean_squared_error, r2_score"
   ]
  },
  {
   "cell_type": "markdown",
   "id": "efe4e3ab-f41f-4d44-9fcd-755e5a1827c4",
   "metadata": {},
   "source": [
    "#### Importing the dataset"
   ]
  },
  {
   "cell_type": "code",
   "execution_count": 2,
   "id": "13c7e25d-e3ad-402b-9df8-1365ed881e3b",
   "metadata": {
    "tags": []
   },
   "outputs": [],
   "source": [
    "df = pd.read_csv(r\"C:\\Users\\damil\\Downloads\\5G_energy_consumption_dataset.csv\")"
   ]
  },
  {
   "cell_type": "markdown",
   "id": "24421742-0c16-44a4-88c6-abc7f3cb26ff",
   "metadata": {},
   "source": [
    "#### Data cleaning and preprocessing"
   ]
  },
  {
   "cell_type": "markdown",
   "id": "2c0508ee-aa99-4fb0-9348-c80d16a75d1e",
   "metadata": {},
   "source": [
    "##### Data overview"
   ]
  },
  {
   "cell_type": "code",
   "execution_count": 3,
   "id": "6dac7765-ea9c-4d1c-8f05-ac2a0ce172f0",
   "metadata": {
    "tags": []
   },
   "outputs": [
    {
     "data": {
      "text/html": [
       "<div>\n",
       "<style scoped>\n",
       "    .dataframe tbody tr th:only-of-type {\n",
       "        vertical-align: middle;\n",
       "    }\n",
       "\n",
       "    .dataframe tbody tr th {\n",
       "        vertical-align: top;\n",
       "    }\n",
       "\n",
       "    .dataframe thead th {\n",
       "        text-align: right;\n",
       "    }\n",
       "</style>\n",
       "<table border=\"1\" class=\"dataframe\">\n",
       "  <thead>\n",
       "    <tr style=\"text-align: right;\">\n",
       "      <th></th>\n",
       "      <th>Time</th>\n",
       "      <th>BS</th>\n",
       "      <th>Energy</th>\n",
       "      <th>load</th>\n",
       "      <th>ESMODE</th>\n",
       "      <th>TXpower</th>\n",
       "    </tr>\n",
       "  </thead>\n",
       "  <tbody>\n",
       "    <tr>\n",
       "      <th>0</th>\n",
       "      <td>20230101 010000</td>\n",
       "      <td>B_0</td>\n",
       "      <td>64.275037</td>\n",
       "      <td>0.487936</td>\n",
       "      <td>0.0</td>\n",
       "      <td>7.101719</td>\n",
       "    </tr>\n",
       "    <tr>\n",
       "      <th>1</th>\n",
       "      <td>20230101 020000</td>\n",
       "      <td>B_0</td>\n",
       "      <td>55.904335</td>\n",
       "      <td>0.344468</td>\n",
       "      <td>0.0</td>\n",
       "      <td>7.101719</td>\n",
       "    </tr>\n",
       "    <tr>\n",
       "      <th>2</th>\n",
       "      <td>20230101 030000</td>\n",
       "      <td>B_0</td>\n",
       "      <td>57.698057</td>\n",
       "      <td>0.193766</td>\n",
       "      <td>0.0</td>\n",
       "      <td>7.101719</td>\n",
       "    </tr>\n",
       "    <tr>\n",
       "      <th>3</th>\n",
       "      <td>20230101 040000</td>\n",
       "      <td>B_0</td>\n",
       "      <td>55.156951</td>\n",
       "      <td>0.222383</td>\n",
       "      <td>0.0</td>\n",
       "      <td>7.101719</td>\n",
       "    </tr>\n",
       "    <tr>\n",
       "      <th>4</th>\n",
       "      <td>20230101 050000</td>\n",
       "      <td>B_0</td>\n",
       "      <td>56.053812</td>\n",
       "      <td>0.175436</td>\n",
       "      <td>0.0</td>\n",
       "      <td>7.101719</td>\n",
       "    </tr>\n",
       "  </tbody>\n",
       "</table>\n",
       "</div>"
      ],
      "text/plain": [
       "              Time   BS     Energy      load  ESMODE   TXpower\n",
       "0  20230101 010000  B_0  64.275037  0.487936     0.0  7.101719\n",
       "1  20230101 020000  B_0  55.904335  0.344468     0.0  7.101719\n",
       "2  20230101 030000  B_0  57.698057  0.193766     0.0  7.101719\n",
       "3  20230101 040000  B_0  55.156951  0.222383     0.0  7.101719\n",
       "4  20230101 050000  B_0  56.053812  0.175436     0.0  7.101719"
      ]
     },
     "execution_count": 3,
     "metadata": {},
     "output_type": "execute_result"
    }
   ],
   "source": [
    "df.head()"
   ]
  },
  {
   "cell_type": "markdown",
   "id": "045ebebc-12c1-43de-b102-6c6e8d92a2af",
   "metadata": {},
   "source": [
    "##### Summary statistics"
   ]
  },
  {
   "cell_type": "code",
   "execution_count": 4,
   "id": "f3bec054-5bfa-49c4-95ca-b2558f523eaa",
   "metadata": {
    "tags": []
   },
   "outputs": [
    {
     "data": {
      "text/html": [
       "<div>\n",
       "<style scoped>\n",
       "    .dataframe tbody tr th:only-of-type {\n",
       "        vertical-align: middle;\n",
       "    }\n",
       "\n",
       "    .dataframe tbody tr th {\n",
       "        vertical-align: top;\n",
       "    }\n",
       "\n",
       "    .dataframe thead th {\n",
       "        text-align: right;\n",
       "    }\n",
       "</style>\n",
       "<table border=\"1\" class=\"dataframe\">\n",
       "  <thead>\n",
       "    <tr style=\"text-align: right;\">\n",
       "      <th></th>\n",
       "      <th>Time</th>\n",
       "      <th>BS</th>\n",
       "      <th>Energy</th>\n",
       "      <th>load</th>\n",
       "      <th>ESMODE</th>\n",
       "      <th>TXpower</th>\n",
       "    </tr>\n",
       "  </thead>\n",
       "  <tbody>\n",
       "    <tr>\n",
       "      <th>count</th>\n",
       "      <td>92629</td>\n",
       "      <td>92629</td>\n",
       "      <td>92629.000000</td>\n",
       "      <td>92629.000000</td>\n",
       "      <td>92629.000000</td>\n",
       "      <td>92629.000000</td>\n",
       "    </tr>\n",
       "    <tr>\n",
       "      <th>unique</th>\n",
       "      <td>168</td>\n",
       "      <td>923</td>\n",
       "      <td>NaN</td>\n",
       "      <td>NaN</td>\n",
       "      <td>NaN</td>\n",
       "      <td>NaN</td>\n",
       "    </tr>\n",
       "    <tr>\n",
       "      <th>top</th>\n",
       "      <td>20230102 230000</td>\n",
       "      <td>B_583</td>\n",
       "      <td>NaN</td>\n",
       "      <td>NaN</td>\n",
       "      <td>NaN</td>\n",
       "      <td>NaN</td>\n",
       "    </tr>\n",
       "    <tr>\n",
       "      <th>freq</th>\n",
       "      <td>766</td>\n",
       "      <td>130</td>\n",
       "      <td>NaN</td>\n",
       "      <td>NaN</td>\n",
       "      <td>NaN</td>\n",
       "      <td>NaN</td>\n",
       "    </tr>\n",
       "    <tr>\n",
       "      <th>mean</th>\n",
       "      <td>NaN</td>\n",
       "      <td>NaN</td>\n",
       "      <td>28.138997</td>\n",
       "      <td>0.244705</td>\n",
       "      <td>0.081361</td>\n",
       "      <td>6.765427</td>\n",
       "    </tr>\n",
       "    <tr>\n",
       "      <th>std</th>\n",
       "      <td>NaN</td>\n",
       "      <td>NaN</td>\n",
       "      <td>13.934645</td>\n",
       "      <td>0.234677</td>\n",
       "      <td>0.382317</td>\n",
       "      <td>0.309929</td>\n",
       "    </tr>\n",
       "    <tr>\n",
       "      <th>min</th>\n",
       "      <td>NaN</td>\n",
       "      <td>NaN</td>\n",
       "      <td>0.747384</td>\n",
       "      <td>0.000000</td>\n",
       "      <td>0.000000</td>\n",
       "      <td>5.381166</td>\n",
       "    </tr>\n",
       "    <tr>\n",
       "      <th>25%</th>\n",
       "      <td>NaN</td>\n",
       "      <td>NaN</td>\n",
       "      <td>18.236173</td>\n",
       "      <td>0.057370</td>\n",
       "      <td>0.000000</td>\n",
       "      <td>6.427504</td>\n",
       "    </tr>\n",
       "    <tr>\n",
       "      <th>50%</th>\n",
       "      <td>NaN</td>\n",
       "      <td>NaN</td>\n",
       "      <td>24.065770</td>\n",
       "      <td>0.165550</td>\n",
       "      <td>0.000000</td>\n",
       "      <td>6.875934</td>\n",
       "    </tr>\n",
       "    <tr>\n",
       "      <th>75%</th>\n",
       "      <td>NaN</td>\n",
       "      <td>NaN</td>\n",
       "      <td>35.724963</td>\n",
       "      <td>0.363766</td>\n",
       "      <td>0.000000</td>\n",
       "      <td>6.875934</td>\n",
       "    </tr>\n",
       "    <tr>\n",
       "      <th>max</th>\n",
       "      <td>NaN</td>\n",
       "      <td>NaN</td>\n",
       "      <td>100.000000</td>\n",
       "      <td>0.993957</td>\n",
       "      <td>4.000000</td>\n",
       "      <td>8.375336</td>\n",
       "    </tr>\n",
       "  </tbody>\n",
       "</table>\n",
       "</div>"
      ],
      "text/plain": [
       "                   Time     BS        Energy          load        ESMODE  \\\n",
       "count             92629  92629  92629.000000  92629.000000  92629.000000   \n",
       "unique              168    923           NaN           NaN           NaN   \n",
       "top     20230102 230000  B_583           NaN           NaN           NaN   \n",
       "freq                766    130           NaN           NaN           NaN   \n",
       "mean                NaN    NaN     28.138997      0.244705      0.081361   \n",
       "std                 NaN    NaN     13.934645      0.234677      0.382317   \n",
       "min                 NaN    NaN      0.747384      0.000000      0.000000   \n",
       "25%                 NaN    NaN     18.236173      0.057370      0.000000   \n",
       "50%                 NaN    NaN     24.065770      0.165550      0.000000   \n",
       "75%                 NaN    NaN     35.724963      0.363766      0.000000   \n",
       "max                 NaN    NaN    100.000000      0.993957      4.000000   \n",
       "\n",
       "             TXpower  \n",
       "count   92629.000000  \n",
       "unique           NaN  \n",
       "top              NaN  \n",
       "freq             NaN  \n",
       "mean        6.765427  \n",
       "std         0.309929  \n",
       "min         5.381166  \n",
       "25%         6.427504  \n",
       "50%         6.875934  \n",
       "75%         6.875934  \n",
       "max         8.375336  "
      ]
     },
     "execution_count": 4,
     "metadata": {},
     "output_type": "execute_result"
    }
   ],
   "source": [
    "df.describe(include = 'all')"
   ]
  },
  {
   "cell_type": "markdown",
   "id": "d67bd6c0-7bde-44ce-aede-d9760deac2bd",
   "metadata": {},
   "source": [
    "##### More information about the dataset"
   ]
  },
  {
   "cell_type": "code",
   "execution_count": 5,
   "id": "31521de6-d433-41bd-9bd6-29c03f4d9497",
   "metadata": {
    "tags": []
   },
   "outputs": [
    {
     "name": "stdout",
     "output_type": "stream",
     "text": [
      "<class 'pandas.core.frame.DataFrame'>\n",
      "RangeIndex: 92629 entries, 0 to 92628\n",
      "Data columns (total 6 columns):\n",
      " #   Column   Non-Null Count  Dtype  \n",
      "---  ------   --------------  -----  \n",
      " 0   Time     92629 non-null  object \n",
      " 1   BS       92629 non-null  object \n",
      " 2   Energy   92629 non-null  float64\n",
      " 3   load     92629 non-null  float64\n",
      " 4   ESMODE   92629 non-null  float64\n",
      " 5   TXpower  92629 non-null  float64\n",
      "dtypes: float64(4), object(2)\n",
      "memory usage: 4.2+ MB\n"
     ]
    }
   ],
   "source": [
    "df.info()"
   ]
  },
  {
   "cell_type": "markdown",
   "id": "c13b64fd-cdb1-41dc-810b-c9da0278603d",
   "metadata": {},
   "source": [
    "##### Checking for missing values"
   ]
  },
  {
   "cell_type": "code",
   "execution_count": 6,
   "id": "3f2d75ef-4094-4458-b0d4-6f610e83e85c",
   "metadata": {
    "tags": []
   },
   "outputs": [
    {
     "data": {
      "text/plain": [
       "Time       0\n",
       "BS         0\n",
       "Energy     0\n",
       "load       0\n",
       "ESMODE     0\n",
       "TXpower    0\n",
       "dtype: int64"
      ]
     },
     "execution_count": 6,
     "metadata": {},
     "output_type": "execute_result"
    }
   ],
   "source": [
    "df.isnull().sum()"
   ]
  },
  {
   "cell_type": "markdown",
   "id": "cebe7a74-d9b9-48d5-a844-466055fd6db3",
   "metadata": {
    "tags": []
   },
   "source": [
    "From above we can see that the dataset does not contain any missing values"
   ]
  },
  {
   "cell_type": "markdown",
   "id": "15b16037-ddfa-43c1-a987-4e0842fe2af2",
   "metadata": {
    "tags": []
   },
   "source": [
    "##### Checking for duplicates"
   ]
  },
  {
   "cell_type": "code",
   "execution_count": 7,
   "id": "530af1af-ae72-4212-a6fc-511c1610e342",
   "metadata": {
    "tags": []
   },
   "outputs": [
    {
     "data": {
      "text/plain": [
       "0"
      ]
     },
     "execution_count": 7,
     "metadata": {},
     "output_type": "execute_result"
    }
   ],
   "source": [
    "df.duplicated().sum()"
   ]
  },
  {
   "cell_type": "markdown",
   "id": "66c889fc-be73-45ed-a95e-fc4d309fc69b",
   "metadata": {},
   "source": [
    "The dataset does not contain any duplicates"
   ]
  },
  {
   "cell_type": "markdown",
   "id": "8cb187bf-4374-4c11-be55-bb3019d226c3",
   "metadata": {},
   "source": [
    "#### Converting the Time column to datetime"
   ]
  },
  {
   "cell_type": "code",
   "execution_count": 8,
   "id": "06aef3eb-0840-4efc-b57c-0a3db2b9800c",
   "metadata": {
    "tags": []
   },
   "outputs": [],
   "source": [
    "df['Time'] = pd.to_datetime(df['Time'], format='%Y%m%d %H%M%S')"
   ]
  },
  {
   "cell_type": "code",
   "execution_count": 9,
   "id": "a3b39814-c312-49c8-90f0-ca80d2e70c21",
   "metadata": {
    "tags": []
   },
   "outputs": [
    {
     "data": {
      "text/html": [
       "<div>\n",
       "<style scoped>\n",
       "    .dataframe tbody tr th:only-of-type {\n",
       "        vertical-align: middle;\n",
       "    }\n",
       "\n",
       "    .dataframe tbody tr th {\n",
       "        vertical-align: top;\n",
       "    }\n",
       "\n",
       "    .dataframe thead th {\n",
       "        text-align: right;\n",
       "    }\n",
       "</style>\n",
       "<table border=\"1\" class=\"dataframe\">\n",
       "  <thead>\n",
       "    <tr style=\"text-align: right;\">\n",
       "      <th></th>\n",
       "      <th>Time</th>\n",
       "      <th>BS</th>\n",
       "      <th>Energy</th>\n",
       "      <th>load</th>\n",
       "      <th>ESMODE</th>\n",
       "      <th>TXpower</th>\n",
       "    </tr>\n",
       "  </thead>\n",
       "  <tbody>\n",
       "    <tr>\n",
       "      <th>0</th>\n",
       "      <td>2023-01-01 01:00:00</td>\n",
       "      <td>B_0</td>\n",
       "      <td>64.275037</td>\n",
       "      <td>0.487936</td>\n",
       "      <td>0.0</td>\n",
       "      <td>7.101719</td>\n",
       "    </tr>\n",
       "    <tr>\n",
       "      <th>1</th>\n",
       "      <td>2023-01-01 02:00:00</td>\n",
       "      <td>B_0</td>\n",
       "      <td>55.904335</td>\n",
       "      <td>0.344468</td>\n",
       "      <td>0.0</td>\n",
       "      <td>7.101719</td>\n",
       "    </tr>\n",
       "    <tr>\n",
       "      <th>2</th>\n",
       "      <td>2023-01-01 03:00:00</td>\n",
       "      <td>B_0</td>\n",
       "      <td>57.698057</td>\n",
       "      <td>0.193766</td>\n",
       "      <td>0.0</td>\n",
       "      <td>7.101719</td>\n",
       "    </tr>\n",
       "    <tr>\n",
       "      <th>3</th>\n",
       "      <td>2023-01-01 04:00:00</td>\n",
       "      <td>B_0</td>\n",
       "      <td>55.156951</td>\n",
       "      <td>0.222383</td>\n",
       "      <td>0.0</td>\n",
       "      <td>7.101719</td>\n",
       "    </tr>\n",
       "    <tr>\n",
       "      <th>4</th>\n",
       "      <td>2023-01-01 05:00:00</td>\n",
       "      <td>B_0</td>\n",
       "      <td>56.053812</td>\n",
       "      <td>0.175436</td>\n",
       "      <td>0.0</td>\n",
       "      <td>7.101719</td>\n",
       "    </tr>\n",
       "  </tbody>\n",
       "</table>\n",
       "</div>"
      ],
      "text/plain": [
       "                 Time   BS     Energy      load  ESMODE   TXpower\n",
       "0 2023-01-01 01:00:00  B_0  64.275037  0.487936     0.0  7.101719\n",
       "1 2023-01-01 02:00:00  B_0  55.904335  0.344468     0.0  7.101719\n",
       "2 2023-01-01 03:00:00  B_0  57.698057  0.193766     0.0  7.101719\n",
       "3 2023-01-01 04:00:00  B_0  55.156951  0.222383     0.0  7.101719\n",
       "4 2023-01-01 05:00:00  B_0  56.053812  0.175436     0.0  7.101719"
      ]
     },
     "execution_count": 9,
     "metadata": {},
     "output_type": "execute_result"
    }
   ],
   "source": [
    "df.head()"
   ]
  },
  {
   "cell_type": "code",
   "execution_count": 11,
   "id": "8f13eb9e-fac7-44db-b48c-204c50486815",
   "metadata": {
    "tags": []
   },
   "outputs": [],
   "source": [
    "# Extract year, month, day, hour, minute and second\n",
    "df['Year'] = df['Time'].dt.year\n",
    "df['Month'] = df['Time'].dt.month\n",
    "df['Day'] = df['Time'].dt.day\n",
    "\n",
    "df['Hour'] = df['Time'].dt.hour\n",
    "df['Minute'] = df['Time'].dt.minute\n",
    "df['Second'] = df['Time'].dt.second "
   ]
  },
  {
   "cell_type": "code",
   "execution_count": 12,
   "id": "9e94ce53-1c3e-40e6-90ff-27975b5cb1d9",
   "metadata": {
    "tags": []
   },
   "outputs": [
    {
     "data": {
      "text/html": [
       "<div>\n",
       "<style scoped>\n",
       "    .dataframe tbody tr th:only-of-type {\n",
       "        vertical-align: middle;\n",
       "    }\n",
       "\n",
       "    .dataframe tbody tr th {\n",
       "        vertical-align: top;\n",
       "    }\n",
       "\n",
       "    .dataframe thead th {\n",
       "        text-align: right;\n",
       "    }\n",
       "</style>\n",
       "<table border=\"1\" class=\"dataframe\">\n",
       "  <thead>\n",
       "    <tr style=\"text-align: right;\">\n",
       "      <th></th>\n",
       "      <th>Time</th>\n",
       "      <th>BS</th>\n",
       "      <th>Energy</th>\n",
       "      <th>load</th>\n",
       "      <th>ESMODE</th>\n",
       "      <th>TXpower</th>\n",
       "      <th>Year</th>\n",
       "      <th>Month</th>\n",
       "      <th>Day</th>\n",
       "      <th>Hour</th>\n",
       "      <th>Minute</th>\n",
       "      <th>Second</th>\n",
       "    </tr>\n",
       "  </thead>\n",
       "  <tbody>\n",
       "    <tr>\n",
       "      <th>0</th>\n",
       "      <td>2023-01-01 01:00:00</td>\n",
       "      <td>B_0</td>\n",
       "      <td>64.275037</td>\n",
       "      <td>0.487936</td>\n",
       "      <td>0.0</td>\n",
       "      <td>7.101719</td>\n",
       "      <td>2023</td>\n",
       "      <td>1</td>\n",
       "      <td>1</td>\n",
       "      <td>1</td>\n",
       "      <td>0</td>\n",
       "      <td>0</td>\n",
       "    </tr>\n",
       "    <tr>\n",
       "      <th>1</th>\n",
       "      <td>2023-01-01 02:00:00</td>\n",
       "      <td>B_0</td>\n",
       "      <td>55.904335</td>\n",
       "      <td>0.344468</td>\n",
       "      <td>0.0</td>\n",
       "      <td>7.101719</td>\n",
       "      <td>2023</td>\n",
       "      <td>1</td>\n",
       "      <td>1</td>\n",
       "      <td>2</td>\n",
       "      <td>0</td>\n",
       "      <td>0</td>\n",
       "    </tr>\n",
       "    <tr>\n",
       "      <th>2</th>\n",
       "      <td>2023-01-01 03:00:00</td>\n",
       "      <td>B_0</td>\n",
       "      <td>57.698057</td>\n",
       "      <td>0.193766</td>\n",
       "      <td>0.0</td>\n",
       "      <td>7.101719</td>\n",
       "      <td>2023</td>\n",
       "      <td>1</td>\n",
       "      <td>1</td>\n",
       "      <td>3</td>\n",
       "      <td>0</td>\n",
       "      <td>0</td>\n",
       "    </tr>\n",
       "    <tr>\n",
       "      <th>3</th>\n",
       "      <td>2023-01-01 04:00:00</td>\n",
       "      <td>B_0</td>\n",
       "      <td>55.156951</td>\n",
       "      <td>0.222383</td>\n",
       "      <td>0.0</td>\n",
       "      <td>7.101719</td>\n",
       "      <td>2023</td>\n",
       "      <td>1</td>\n",
       "      <td>1</td>\n",
       "      <td>4</td>\n",
       "      <td>0</td>\n",
       "      <td>0</td>\n",
       "    </tr>\n",
       "    <tr>\n",
       "      <th>4</th>\n",
       "      <td>2023-01-01 05:00:00</td>\n",
       "      <td>B_0</td>\n",
       "      <td>56.053812</td>\n",
       "      <td>0.175436</td>\n",
       "      <td>0.0</td>\n",
       "      <td>7.101719</td>\n",
       "      <td>2023</td>\n",
       "      <td>1</td>\n",
       "      <td>1</td>\n",
       "      <td>5</td>\n",
       "      <td>0</td>\n",
       "      <td>0</td>\n",
       "    </tr>\n",
       "  </tbody>\n",
       "</table>\n",
       "</div>"
      ],
      "text/plain": [
       "                 Time   BS     Energy      load  ESMODE   TXpower  Year  \\\n",
       "0 2023-01-01 01:00:00  B_0  64.275037  0.487936     0.0  7.101719  2023   \n",
       "1 2023-01-01 02:00:00  B_0  55.904335  0.344468     0.0  7.101719  2023   \n",
       "2 2023-01-01 03:00:00  B_0  57.698057  0.193766     0.0  7.101719  2023   \n",
       "3 2023-01-01 04:00:00  B_0  55.156951  0.222383     0.0  7.101719  2023   \n",
       "4 2023-01-01 05:00:00  B_0  56.053812  0.175436     0.0  7.101719  2023   \n",
       "\n",
       "   Month  Day  Hour  Minute  Second  \n",
       "0      1    1     1       0       0  \n",
       "1      1    1     2       0       0  \n",
       "2      1    1     3       0       0  \n",
       "3      1    1     4       0       0  \n",
       "4      1    1     5       0       0  "
      ]
     },
     "execution_count": 12,
     "metadata": {},
     "output_type": "execute_result"
    }
   ],
   "source": [
    "df.head()"
   ]
  },
  {
   "cell_type": "markdown",
   "id": "4f3eaafa-c318-44fd-8b4c-621321150d1d",
   "metadata": {},
   "source": [
    "#### Encoding categorical features"
   ]
  },
  {
   "cell_type": "code",
   "execution_count": 13,
   "id": "d5d104ab-6cab-4f9c-9b3a-55419d6b67b2",
   "metadata": {
    "tags": []
   },
   "outputs": [
    {
     "data": {
      "text/plain": [
       "BS\n",
       "B_583     130\n",
       "B_261     128\n",
       "B_728     128\n",
       "B_669     128\n",
       "B_512     126\n",
       "         ... \n",
       "B_1018     16\n",
       "B_921      14\n",
       "B_905      13\n",
       "B_854       1\n",
       "B_835       1\n",
       "Name: count, Length: 923, dtype: int64"
      ]
     },
     "execution_count": 13,
     "metadata": {},
     "output_type": "execute_result"
    }
   ],
   "source": [
    "df['BS'].value_counts()"
   ]
  },
  {
   "cell_type": "code",
   "execution_count": 14,
   "id": "a61b3c03-4df2-4e2d-99b6-172c041f9cc5",
   "metadata": {
    "tags": []
   },
   "outputs": [
    {
     "data": {
      "text/plain": [
       "array(['B_0', 'B_1', 'B_2', 'B_3', 'B_4', 'B_5', 'B_6', 'B_7', 'B_8',\n",
       "       'B_9', 'B_10', 'B_11', 'B_12', 'B_14', 'B_15', 'B_16', 'B_17',\n",
       "       'B_18', 'B_19', 'B_20', 'B_21', 'B_22', 'B_23', 'B_24', 'B_25',\n",
       "       'B_26', 'B_27', 'B_28', 'B_29', 'B_30', 'B_31', 'B_32', 'B_33',\n",
       "       'B_34', 'B_35', 'B_36', 'B_37', 'B_38', 'B_39', 'B_40', 'B_41',\n",
       "       'B_42', 'B_43', 'B_44', 'B_45', 'B_46', 'B_47', 'B_48', 'B_49',\n",
       "       'B_50', 'B_51', 'B_52', 'B_53', 'B_54', 'B_55', 'B_56', 'B_57',\n",
       "       'B_58', 'B_59', 'B_60', 'B_61', 'B_62', 'B_63', 'B_64', 'B_65',\n",
       "       'B_66', 'B_67', 'B_68', 'B_69', 'B_70', 'B_71', 'B_72', 'B_73',\n",
       "       'B_74', 'B_75', 'B_76', 'B_77', 'B_78', 'B_79', 'B_80', 'B_81',\n",
       "       'B_82', 'B_83', 'B_84', 'B_85', 'B_86', 'B_87', 'B_88', 'B_89',\n",
       "       'B_90', 'B_91', 'B_92', 'B_93', 'B_94', 'B_95', 'B_96', 'B_97',\n",
       "       'B_98', 'B_99', 'B_100', 'B_101', 'B_102', 'B_103', 'B_104',\n",
       "       'B_105', 'B_106', 'B_107', 'B_108', 'B_109', 'B_110', 'B_111',\n",
       "       'B_112', 'B_113', 'B_114', 'B_115', 'B_116', 'B_117', 'B_118',\n",
       "       'B_119', 'B_120', 'B_121', 'B_122', 'B_123', 'B_124', 'B_125',\n",
       "       'B_126', 'B_127', 'B_128', 'B_129', 'B_130', 'B_131', 'B_132',\n",
       "       'B_133', 'B_134', 'B_135', 'B_136', 'B_137', 'B_138', 'B_139',\n",
       "       'B_140', 'B_141', 'B_142', 'B_143', 'B_144', 'B_145', 'B_146',\n",
       "       'B_147', 'B_148', 'B_149', 'B_150', 'B_151', 'B_152', 'B_153',\n",
       "       'B_154', 'B_155', 'B_156', 'B_157', 'B_158', 'B_159', 'B_160',\n",
       "       'B_161', 'B_162', 'B_163', 'B_164', 'B_165', 'B_166', 'B_167',\n",
       "       'B_168', 'B_169', 'B_170', 'B_171', 'B_172', 'B_173', 'B_174',\n",
       "       'B_175', 'B_176', 'B_177', 'B_178', 'B_179', 'B_180', 'B_181',\n",
       "       'B_182', 'B_183', 'B_184', 'B_185', 'B_186', 'B_187', 'B_188',\n",
       "       'B_189', 'B_190', 'B_191', 'B_192', 'B_193', 'B_194', 'B_195',\n",
       "       'B_196', 'B_197', 'B_198', 'B_199', 'B_200', 'B_201', 'B_202',\n",
       "       'B_203', 'B_204', 'B_205', 'B_206', 'B_207', 'B_208', 'B_209',\n",
       "       'B_210', 'B_211', 'B_212', 'B_213', 'B_214', 'B_215', 'B_216',\n",
       "       'B_217', 'B_218', 'B_219', 'B_220', 'B_221', 'B_222', 'B_223',\n",
       "       'B_224', 'B_225', 'B_226', 'B_227', 'B_228', 'B_229', 'B_230',\n",
       "       'B_231', 'B_232', 'B_233', 'B_234', 'B_235', 'B_236', 'B_237',\n",
       "       'B_238', 'B_239', 'B_240', 'B_241', 'B_242', 'B_243', 'B_244',\n",
       "       'B_245', 'B_246', 'B_247', 'B_248', 'B_249', 'B_250', 'B_251',\n",
       "       'B_252', 'B_253', 'B_254', 'B_255', 'B_256', 'B_257', 'B_258',\n",
       "       'B_259', 'B_260', 'B_261', 'B_262', 'B_263', 'B_264', 'B_265',\n",
       "       'B_266', 'B_267', 'B_268', 'B_269', 'B_270', 'B_271', 'B_272',\n",
       "       'B_273', 'B_275', 'B_276', 'B_277', 'B_278', 'B_279', 'B_280',\n",
       "       'B_281', 'B_282', 'B_283', 'B_284', 'B_285', 'B_286', 'B_287',\n",
       "       'B_288', 'B_289', 'B_290', 'B_291', 'B_292', 'B_293', 'B_294',\n",
       "       'B_295', 'B_296', 'B_297', 'B_298', 'B_299', 'B_300', 'B_301',\n",
       "       'B_302', 'B_303', 'B_304', 'B_305', 'B_306', 'B_307', 'B_308',\n",
       "       'B_309', 'B_310', 'B_311', 'B_312', 'B_313', 'B_314', 'B_316',\n",
       "       'B_317', 'B_318', 'B_319', 'B_320', 'B_321', 'B_322', 'B_323',\n",
       "       'B_324', 'B_325', 'B_326', 'B_327', 'B_328', 'B_329', 'B_330',\n",
       "       'B_331', 'B_332', 'B_333', 'B_334', 'B_335', 'B_336', 'B_337',\n",
       "       'B_338', 'B_339', 'B_340', 'B_341', 'B_342', 'B_343', 'B_344',\n",
       "       'B_345', 'B_346', 'B_347', 'B_348', 'B_349', 'B_350', 'B_351',\n",
       "       'B_352', 'B_353', 'B_354', 'B_355', 'B_356', 'B_357', 'B_358',\n",
       "       'B_359', 'B_360', 'B_361', 'B_362', 'B_364', 'B_365', 'B_366',\n",
       "       'B_367', 'B_368', 'B_369', 'B_370', 'B_371', 'B_372', 'B_373',\n",
       "       'B_374', 'B_375', 'B_376', 'B_377', 'B_378', 'B_379', 'B_380',\n",
       "       'B_381', 'B_382', 'B_383', 'B_384', 'B_385', 'B_386', 'B_387',\n",
       "       'B_388', 'B_389', 'B_390', 'B_391', 'B_392', 'B_393', 'B_394',\n",
       "       'B_395', 'B_396', 'B_397', 'B_398', 'B_399', 'B_400', 'B_401',\n",
       "       'B_402', 'B_403', 'B_404', 'B_405', 'B_406', 'B_407', 'B_408',\n",
       "       'B_409', 'B_410', 'B_411', 'B_412', 'B_413', 'B_414', 'B_415',\n",
       "       'B_416', 'B_417', 'B_418', 'B_419', 'B_420', 'B_421', 'B_422',\n",
       "       'B_423', 'B_424', 'B_425', 'B_426', 'B_427', 'B_428', 'B_429',\n",
       "       'B_430', 'B_431', 'B_432', 'B_433', 'B_434', 'B_435', 'B_436',\n",
       "       'B_437', 'B_438', 'B_439', 'B_440', 'B_441', 'B_442', 'B_443',\n",
       "       'B_444', 'B_445', 'B_446', 'B_447', 'B_448', 'B_449', 'B_450',\n",
       "       'B_451', 'B_452', 'B_453', 'B_454', 'B_455', 'B_456', 'B_457',\n",
       "       'B_458', 'B_459', 'B_460', 'B_461', 'B_462', 'B_463', 'B_464',\n",
       "       'B_465', 'B_466', 'B_467', 'B_468', 'B_469', 'B_470', 'B_471',\n",
       "       'B_472', 'B_473', 'B_474', 'B_475', 'B_476', 'B_477', 'B_478',\n",
       "       'B_479', 'B_480', 'B_481', 'B_482', 'B_483', 'B_484', 'B_485',\n",
       "       'B_486', 'B_487', 'B_488', 'B_489', 'B_490', 'B_491', 'B_492',\n",
       "       'B_493', 'B_494', 'B_495', 'B_496', 'B_497', 'B_498', 'B_499',\n",
       "       'B_500', 'B_501', 'B_502', 'B_503', 'B_504', 'B_505', 'B_506',\n",
       "       'B_507', 'B_508', 'B_509', 'B_510', 'B_511', 'B_512', 'B_513',\n",
       "       'B_514', 'B_515', 'B_516', 'B_517', 'B_518', 'B_519', 'B_520',\n",
       "       'B_521', 'B_522', 'B_523', 'B_524', 'B_525', 'B_526', 'B_527',\n",
       "       'B_528', 'B_529', 'B_530', 'B_531', 'B_532', 'B_533', 'B_534',\n",
       "       'B_535', 'B_536', 'B_537', 'B_538', 'B_539', 'B_540', 'B_541',\n",
       "       'B_542', 'B_543', 'B_544', 'B_545', 'B_546', 'B_547', 'B_548',\n",
       "       'B_549', 'B_550', 'B_551', 'B_552', 'B_553', 'B_554', 'B_555',\n",
       "       'B_556', 'B_557', 'B_558', 'B_559', 'B_560', 'B_561', 'B_562',\n",
       "       'B_563', 'B_564', 'B_565', 'B_566', 'B_567', 'B_568', 'B_569',\n",
       "       'B_570', 'B_571', 'B_572', 'B_573', 'B_574', 'B_575', 'B_576',\n",
       "       'B_577', 'B_578', 'B_579', 'B_580', 'B_581', 'B_582', 'B_583',\n",
       "       'B_584', 'B_585', 'B_586', 'B_587', 'B_588', 'B_589', 'B_590',\n",
       "       'B_591', 'B_592', 'B_593', 'B_594', 'B_595', 'B_596', 'B_597',\n",
       "       'B_598', 'B_599', 'B_600', 'B_601', 'B_602', 'B_603', 'B_604',\n",
       "       'B_605', 'B_606', 'B_607', 'B_608', 'B_609', 'B_610', 'B_611',\n",
       "       'B_612', 'B_613', 'B_614', 'B_615', 'B_616', 'B_617', 'B_618',\n",
       "       'B_619', 'B_620', 'B_621', 'B_622', 'B_623', 'B_624', 'B_625',\n",
       "       'B_626', 'B_627', 'B_628', 'B_629', 'B_630', 'B_631', 'B_632',\n",
       "       'B_633', 'B_634', 'B_635', 'B_636', 'B_637', 'B_638', 'B_639',\n",
       "       'B_640', 'B_641', 'B_642', 'B_643', 'B_644', 'B_645', 'B_646',\n",
       "       'B_647', 'B_648', 'B_649', 'B_650', 'B_652', 'B_653', 'B_654',\n",
       "       'B_655', 'B_656', 'B_657', 'B_658', 'B_659', 'B_660', 'B_661',\n",
       "       'B_662', 'B_663', 'B_664', 'B_665', 'B_666', 'B_667', 'B_668',\n",
       "       'B_669', 'B_670', 'B_671', 'B_672', 'B_673', 'B_674', 'B_675',\n",
       "       'B_676', 'B_677', 'B_678', 'B_679', 'B_680', 'B_681', 'B_682',\n",
       "       'B_683', 'B_684', 'B_685', 'B_686', 'B_687', 'B_688', 'B_689',\n",
       "       'B_690', 'B_691', 'B_692', 'B_693', 'B_694', 'B_695', 'B_696',\n",
       "       'B_697', 'B_698', 'B_699', 'B_700', 'B_701', 'B_702', 'B_703',\n",
       "       'B_704', 'B_705', 'B_706', 'B_707', 'B_708', 'B_709', 'B_710',\n",
       "       'B_711', 'B_712', 'B_713', 'B_714', 'B_715', 'B_716', 'B_717',\n",
       "       'B_718', 'B_719', 'B_720', 'B_721', 'B_722', 'B_723', 'B_724',\n",
       "       'B_725', 'B_726', 'B_727', 'B_728', 'B_729', 'B_730', 'B_731',\n",
       "       'B_732', 'B_733', 'B_734', 'B_735', 'B_736', 'B_737', 'B_738',\n",
       "       'B_739', 'B_740', 'B_741', 'B_742', 'B_743', 'B_744', 'B_745',\n",
       "       'B_746', 'B_747', 'B_748', 'B_749', 'B_750', 'B_751', 'B_752',\n",
       "       'B_753', 'B_754', 'B_755', 'B_756', 'B_757', 'B_758', 'B_759',\n",
       "       'B_760', 'B_761', 'B_762', 'B_763', 'B_764', 'B_765', 'B_766',\n",
       "       'B_767', 'B_768', 'B_769', 'B_770', 'B_771', 'B_772', 'B_773',\n",
       "       'B_774', 'B_775', 'B_776', 'B_777', 'B_778', 'B_779', 'B_780',\n",
       "       'B_781', 'B_782', 'B_783', 'B_784', 'B_785', 'B_786', 'B_787',\n",
       "       'B_788', 'B_789', 'B_790', 'B_791', 'B_792', 'B_793', 'B_794',\n",
       "       'B_795', 'B_796', 'B_797', 'B_798', 'B_799', 'B_800', 'B_801',\n",
       "       'B_802', 'B_803', 'B_804', 'B_805', 'B_806', 'B_807', 'B_808',\n",
       "       'B_809', 'B_810', 'B_811', 'B_812', 'B_813', 'B_814', 'B_815',\n",
       "       'B_816', 'B_817', 'B_818', 'B_819', 'B_820', 'B_821', 'B_822',\n",
       "       'B_823', 'B_824', 'B_825', 'B_826', 'B_829', 'B_830', 'B_831',\n",
       "       'B_832', 'B_833', 'B_834', 'B_835', 'B_836', 'B_839', 'B_844',\n",
       "       'B_845', 'B_846', 'B_847', 'B_851', 'B_852', 'B_853', 'B_854',\n",
       "       'B_856', 'B_857', 'B_858', 'B_859', 'B_860', 'B_863', 'B_865',\n",
       "       'B_866', 'B_868', 'B_870', 'B_871', 'B_872', 'B_873', 'B_874',\n",
       "       'B_883', 'B_884', 'B_885', 'B_886', 'B_887', 'B_888', 'B_889',\n",
       "       'B_890', 'B_891', 'B_892', 'B_896', 'B_900', 'B_901', 'B_905',\n",
       "       'B_906', 'B_907', 'B_918', 'B_921', 'B_922', 'B_923', 'B_924',\n",
       "       'B_925', 'B_926', 'B_928', 'B_930', 'B_933', 'B_934', 'B_938',\n",
       "       'B_939', 'B_940', 'B_945', 'B_946', 'B_947', 'B_951', 'B_952',\n",
       "       'B_953', 'B_954', 'B_963', 'B_966', 'B_967', 'B_968', 'B_969',\n",
       "       'B_970', 'B_971', 'B_972', 'B_973', 'B_974', 'B_977', 'B_983',\n",
       "       'B_985', 'B_986', 'B_987', 'B_988', 'B_989', 'B_990', 'B_991',\n",
       "       'B_992', 'B_993', 'B_994', 'B_995', 'B_996', 'B_997', 'B_998',\n",
       "       'B_999', 'B_1003', 'B_1004', 'B_1005', 'B_1006', 'B_1007',\n",
       "       'B_1018'], dtype=object)"
      ]
     },
     "execution_count": 14,
     "metadata": {},
     "output_type": "execute_result"
    }
   ],
   "source": [
    "df['BS'].unique()"
   ]
  },
  {
   "cell_type": "markdown",
   "id": "505f4c28-d111-48d2-b36f-ce2545d60f2d",
   "metadata": {},
   "source": [
    "#### We can see that BS has too many unique values using Target Encoding replaces each category with the mean of the target variable (Energy) for that category. This method allows the model to learn patterns related to the base station identifiers without creating a large number of features."
   ]
  },
  {
   "cell_type": "code",
   "execution_count": 15,
   "id": "a8901df7-6a66-4984-87fc-8d8d4c9f798e",
   "metadata": {
    "tags": []
   },
   "outputs": [],
   "source": [
    "# Target Encoding\n",
    "encoder = ce.TargetEncoder(cols=['BS'])\n",
    "df['BS_encoded'] = encoder.fit_transform(df['BS'], df['Energy'])"
   ]
  },
  {
   "cell_type": "code",
   "execution_count": 16,
   "id": "544f688f-6f24-40ec-bf7d-ed303686a592",
   "metadata": {
    "tags": []
   },
   "outputs": [
    {
     "data": {
      "text/html": [
       "<div>\n",
       "<style scoped>\n",
       "    .dataframe tbody tr th:only-of-type {\n",
       "        vertical-align: middle;\n",
       "    }\n",
       "\n",
       "    .dataframe tbody tr th {\n",
       "        vertical-align: top;\n",
       "    }\n",
       "\n",
       "    .dataframe thead th {\n",
       "        text-align: right;\n",
       "    }\n",
       "</style>\n",
       "<table border=\"1\" class=\"dataframe\">\n",
       "  <thead>\n",
       "    <tr style=\"text-align: right;\">\n",
       "      <th></th>\n",
       "      <th>Time</th>\n",
       "      <th>BS</th>\n",
       "      <th>Energy</th>\n",
       "      <th>load</th>\n",
       "      <th>ESMODE</th>\n",
       "      <th>TXpower</th>\n",
       "      <th>Year</th>\n",
       "      <th>Month</th>\n",
       "      <th>Day</th>\n",
       "      <th>Hour</th>\n",
       "      <th>Minute</th>\n",
       "      <th>Second</th>\n",
       "      <th>BS_encoded</th>\n",
       "    </tr>\n",
       "  </thead>\n",
       "  <tbody>\n",
       "    <tr>\n",
       "      <th>0</th>\n",
       "      <td>2023-01-01 01:00:00</td>\n",
       "      <td>B_0</td>\n",
       "      <td>64.275037</td>\n",
       "      <td>0.487936</td>\n",
       "      <td>0.0</td>\n",
       "      <td>7.101719</td>\n",
       "      <td>2023</td>\n",
       "      <td>1</td>\n",
       "      <td>1</td>\n",
       "      <td>1</td>\n",
       "      <td>0</td>\n",
       "      <td>0</td>\n",
       "      <td>73.087415</td>\n",
       "    </tr>\n",
       "    <tr>\n",
       "      <th>1</th>\n",
       "      <td>2023-01-01 02:00:00</td>\n",
       "      <td>B_0</td>\n",
       "      <td>55.904335</td>\n",
       "      <td>0.344468</td>\n",
       "      <td>0.0</td>\n",
       "      <td>7.101719</td>\n",
       "      <td>2023</td>\n",
       "      <td>1</td>\n",
       "      <td>1</td>\n",
       "      <td>2</td>\n",
       "      <td>0</td>\n",
       "      <td>0</td>\n",
       "      <td>73.087415</td>\n",
       "    </tr>\n",
       "    <tr>\n",
       "      <th>2</th>\n",
       "      <td>2023-01-01 03:00:00</td>\n",
       "      <td>B_0</td>\n",
       "      <td>57.698057</td>\n",
       "      <td>0.193766</td>\n",
       "      <td>0.0</td>\n",
       "      <td>7.101719</td>\n",
       "      <td>2023</td>\n",
       "      <td>1</td>\n",
       "      <td>1</td>\n",
       "      <td>3</td>\n",
       "      <td>0</td>\n",
       "      <td>0</td>\n",
       "      <td>73.087415</td>\n",
       "    </tr>\n",
       "    <tr>\n",
       "      <th>3</th>\n",
       "      <td>2023-01-01 04:00:00</td>\n",
       "      <td>B_0</td>\n",
       "      <td>55.156951</td>\n",
       "      <td>0.222383</td>\n",
       "      <td>0.0</td>\n",
       "      <td>7.101719</td>\n",
       "      <td>2023</td>\n",
       "      <td>1</td>\n",
       "      <td>1</td>\n",
       "      <td>4</td>\n",
       "      <td>0</td>\n",
       "      <td>0</td>\n",
       "      <td>73.087415</td>\n",
       "    </tr>\n",
       "    <tr>\n",
       "      <th>4</th>\n",
       "      <td>2023-01-01 05:00:00</td>\n",
       "      <td>B_0</td>\n",
       "      <td>56.053812</td>\n",
       "      <td>0.175436</td>\n",
       "      <td>0.0</td>\n",
       "      <td>7.101719</td>\n",
       "      <td>2023</td>\n",
       "      <td>1</td>\n",
       "      <td>1</td>\n",
       "      <td>5</td>\n",
       "      <td>0</td>\n",
       "      <td>0</td>\n",
       "      <td>73.087415</td>\n",
       "    </tr>\n",
       "  </tbody>\n",
       "</table>\n",
       "</div>"
      ],
      "text/plain": [
       "                 Time   BS     Energy      load  ESMODE   TXpower  Year  \\\n",
       "0 2023-01-01 01:00:00  B_0  64.275037  0.487936     0.0  7.101719  2023   \n",
       "1 2023-01-01 02:00:00  B_0  55.904335  0.344468     0.0  7.101719  2023   \n",
       "2 2023-01-01 03:00:00  B_0  57.698057  0.193766     0.0  7.101719  2023   \n",
       "3 2023-01-01 04:00:00  B_0  55.156951  0.222383     0.0  7.101719  2023   \n",
       "4 2023-01-01 05:00:00  B_0  56.053812  0.175436     0.0  7.101719  2023   \n",
       "\n",
       "   Month  Day  Hour  Minute  Second  BS_encoded  \n",
       "0      1    1     1       0       0   73.087415  \n",
       "1      1    1     2       0       0   73.087415  \n",
       "2      1    1     3       0       0   73.087415  \n",
       "3      1    1     4       0       0   73.087415  \n",
       "4      1    1     5       0       0   73.087415  "
      ]
     },
     "execution_count": 16,
     "metadata": {},
     "output_type": "execute_result"
    }
   ],
   "source": [
    "df.head()"
   ]
  },
  {
   "cell_type": "markdown",
   "id": "eaec7daa-30ce-4786-aee3-ea942c134083",
   "metadata": {},
   "source": [
    "#### Creating a correlation matrix to indicate the strength and direction of the linear relationships between the different features in the dataset, especially between Energy consumed and other features"
   ]
  },
  {
   "cell_type": "code",
   "execution_count": 17,
   "id": "07560dd4-ee70-4d24-927c-f75f30db590d",
   "metadata": {
    "tags": []
   },
   "outputs": [],
   "source": [
    "selected_columns = ['Energy', 'load', 'ESMODE','TXpower', 'BS_encoded', 'Time', 'Day','Hour']\n",
    "\n",
    "correlation_matrix = df[selected_columns].corr()"
   ]
  },
  {
   "cell_type": "code",
   "execution_count": 18,
   "id": "2e5f4f91-958f-48c3-b91a-9db2c4a77261",
   "metadata": {
    "tags": []
   },
   "outputs": [
    {
     "data": {
      "text/html": [
       "<div>\n",
       "<style scoped>\n",
       "    .dataframe tbody tr th:only-of-type {\n",
       "        vertical-align: middle;\n",
       "    }\n",
       "\n",
       "    .dataframe tbody tr th {\n",
       "        vertical-align: top;\n",
       "    }\n",
       "\n",
       "    .dataframe thead th {\n",
       "        text-align: right;\n",
       "    }\n",
       "</style>\n",
       "<table border=\"1\" class=\"dataframe\">\n",
       "  <thead>\n",
       "    <tr style=\"text-align: right;\">\n",
       "      <th></th>\n",
       "      <th>Energy</th>\n",
       "      <th>load</th>\n",
       "      <th>ESMODE</th>\n",
       "      <th>TXpower</th>\n",
       "      <th>BS_encoded</th>\n",
       "      <th>Time</th>\n",
       "      <th>Day</th>\n",
       "      <th>Hour</th>\n",
       "    </tr>\n",
       "  </thead>\n",
       "  <tbody>\n",
       "    <tr>\n",
       "      <th>Energy</th>\n",
       "      <td>1.000000</td>\n",
       "      <td>0.643022</td>\n",
       "      <td>-0.271783</td>\n",
       "      <td>0.450760</td>\n",
       "      <td>0.922452</td>\n",
       "      <td>0.030404</td>\n",
       "      <td>-0.001294</td>\n",
       "      <td>0.203709</td>\n",
       "    </tr>\n",
       "    <tr>\n",
       "      <th>load</th>\n",
       "      <td>0.643022</td>\n",
       "      <td>1.000000</td>\n",
       "      <td>-0.208473</td>\n",
       "      <td>0.200221</td>\n",
       "      <td>0.487335</td>\n",
       "      <td>0.066937</td>\n",
       "      <td>0.016688</td>\n",
       "      <td>0.323958</td>\n",
       "    </tr>\n",
       "    <tr>\n",
       "      <th>ESMODE</th>\n",
       "      <td>-0.271783</td>\n",
       "      <td>-0.208473</td>\n",
       "      <td>1.000000</td>\n",
       "      <td>0.060017</td>\n",
       "      <td>-0.142792</td>\n",
       "      <td>-0.032436</td>\n",
       "      <td>0.004096</td>\n",
       "      <td>-0.234626</td>\n",
       "    </tr>\n",
       "    <tr>\n",
       "      <th>TXpower</th>\n",
       "      <td>0.450760</td>\n",
       "      <td>0.200221</td>\n",
       "      <td>0.060017</td>\n",
       "      <td>1.000000</td>\n",
       "      <td>0.491489</td>\n",
       "      <td>-0.038777</td>\n",
       "      <td>-0.039210</td>\n",
       "      <td>0.000630</td>\n",
       "    </tr>\n",
       "    <tr>\n",
       "      <th>BS_encoded</th>\n",
       "      <td>0.922452</td>\n",
       "      <td>0.487335</td>\n",
       "      <td>-0.142792</td>\n",
       "      <td>0.491489</td>\n",
       "      <td>1.000000</td>\n",
       "      <td>0.007711</td>\n",
       "      <td>0.007395</td>\n",
       "      <td>0.002438</td>\n",
       "    </tr>\n",
       "    <tr>\n",
       "      <th>Time</th>\n",
       "      <td>0.030404</td>\n",
       "      <td>0.066937</td>\n",
       "      <td>-0.032436</td>\n",
       "      <td>-0.038777</td>\n",
       "      <td>0.007711</td>\n",
       "      <td>1.000000</td>\n",
       "      <td>0.987834</td>\n",
       "      <td>0.132592</td>\n",
       "    </tr>\n",
       "    <tr>\n",
       "      <th>Day</th>\n",
       "      <td>-0.001294</td>\n",
       "      <td>0.016688</td>\n",
       "      <td>0.004096</td>\n",
       "      <td>-0.039210</td>\n",
       "      <td>0.007395</td>\n",
       "      <td>0.987834</td>\n",
       "      <td>1.000000</td>\n",
       "      <td>-0.023159</td>\n",
       "    </tr>\n",
       "    <tr>\n",
       "      <th>Hour</th>\n",
       "      <td>0.203709</td>\n",
       "      <td>0.323958</td>\n",
       "      <td>-0.234626</td>\n",
       "      <td>0.000630</td>\n",
       "      <td>0.002438</td>\n",
       "      <td>0.132592</td>\n",
       "      <td>-0.023159</td>\n",
       "      <td>1.000000</td>\n",
       "    </tr>\n",
       "  </tbody>\n",
       "</table>\n",
       "</div>"
      ],
      "text/plain": [
       "              Energy      load    ESMODE   TXpower  BS_encoded      Time  \\\n",
       "Energy      1.000000  0.643022 -0.271783  0.450760    0.922452  0.030404   \n",
       "load        0.643022  1.000000 -0.208473  0.200221    0.487335  0.066937   \n",
       "ESMODE     -0.271783 -0.208473  1.000000  0.060017   -0.142792 -0.032436   \n",
       "TXpower     0.450760  0.200221  0.060017  1.000000    0.491489 -0.038777   \n",
       "BS_encoded  0.922452  0.487335 -0.142792  0.491489    1.000000  0.007711   \n",
       "Time        0.030404  0.066937 -0.032436 -0.038777    0.007711  1.000000   \n",
       "Day        -0.001294  0.016688  0.004096 -0.039210    0.007395  0.987834   \n",
       "Hour        0.203709  0.323958 -0.234626  0.000630    0.002438  0.132592   \n",
       "\n",
       "                 Day      Hour  \n",
       "Energy     -0.001294  0.203709  \n",
       "load        0.016688  0.323958  \n",
       "ESMODE      0.004096 -0.234626  \n",
       "TXpower    -0.039210  0.000630  \n",
       "BS_encoded  0.007395  0.002438  \n",
       "Time        0.987834  0.132592  \n",
       "Day         1.000000 -0.023159  \n",
       "Hour       -0.023159  1.000000  "
      ]
     },
     "execution_count": 18,
     "metadata": {},
     "output_type": "execute_result"
    }
   ],
   "source": [
    "correlation_matrix"
   ]
  },
  {
   "cell_type": "code",
   "execution_count": 19,
   "id": "0477a8c1-9e73-493f-8d82-24687f1b42d4",
   "metadata": {
    "tags": []
   },
   "outputs": [
    {
     "data": {
      "image/png": "[encoded data removed]",
      "text/plain": [
       "<Figure size 640x480 with 2 Axes>"
      ]
     },
     "metadata": {},
     "output_type": "display_data"
    }
   ],
   "source": [
    "sns.heatmap(correlation_matrix, \n",
    "            annot=True,\n",
    "            cmap='viridis',           \n",
    "            linewidths=0.5,           \n",
    "            linecolor='black',        \n",
    "            cbar_kws={'label': 'Correlation Coefficient'})\n",
    "\n",
    "plt.title('Correlation Matrix of Features', fontsize=15)\n",
    "plt.xlabel('Features', fontsize=14)\n",
    "plt.ylabel('Features', fontsize=14)\n",
    "\n",
    "plt.show()"
   ]
  },
  {
   "cell_type": "markdown",
   "id": "0d8e1d92-cc60-4b09-9cf7-57fa757fb730",
   "metadata": {},
   "source": [
    "**Energy vs. Other Features:**\n",
    "\n",
    "- **Energy and BS_encoded:** The correlation coefficient remains 0.922, indicating a very strong positive correlation. This reinforces that BS_encoded is a crucial feature for predicting energy consumption.\n",
    "\n",
    "- **Energy and load:** The correlation remains 0.643, a moderate positive correlation. This suggests that the traffic load continues to be an important predictor of energy consumption.\n",
    "\n",
    "- **Energy and ESMODE:** The correlation remains -0.272, a weak negative correlation, indicating that energy-saving modes slightly reduce energy consumption.\n",
    "\n",
    "- **Energy and TXpower:** The correlation is 0.451, indicating a moderate positive correlation. This suggests that transmission power (TXpower) has a direct impact on energy consumption, which makes sense since higher transmission power generally requires more energy.\n",
    "\n",
    "- **Energy and Time:** The correlation is 0.030, still very weak. Time itself does not have a strong linear relationship with energy consumption.\n",
    "\n",
    "- **Energy and Day:** The correlation is -0.001, indicating almost no relationship between Day and energy consumption.\n",
    "\n",
    "- **Energy and Hour:** The correlation is 0.204, indicating a weak positive correlation. This suggests that the hour of the day has a slight impact on energy consumption, possibly due to varying traffic patterns throughout the day.\n"
   ]
  },
  {
   "cell_type": "markdown",
   "id": "e875a5dc-6da1-4967-880b-d61775a67626",
   "metadata": {},
   "source": [
    "#### Selecting my Target Variable and Features"
   ]
  },
  {
   "cell_type": "markdown",
   "id": "a0422c02-f124-4fcd-b215-c0fcdffae7f9",
   "metadata": {},
   "source": [
    "***Summary of Selected Features:***\n",
    "- **BS_encoded:** Strong predictor.\n",
    "- **load:** Important predictor.\n",
    "- **Hour:** Captures daily patterns.\n",
    "- **ESMODE:** Adds information about energy-saving features.\n",
    "- **TXpower:** Influences energy consumption."
   ]
  },
  {
   "cell_type": "markdown",
   "id": "1cf75d4c-457c-4291-95b9-291d67fac539",
   "metadata": {},
   "source": [
    "#### Splitting the Dataset into Training and Test Sets"
   ]
  },
  {
   "cell_type": "code",
   "execution_count": 20,
   "id": "ccdc1bb6-52df-47e0-8183-68685dc8d070",
   "metadata": {
    "tags": []
   },
   "outputs": [
    {
     "name": "stdout",
     "output_type": "stream",
     "text": [
      "Index(['load', 'ESMODE', 'TXpower', 'Hour', 'BS_encoded'], dtype='object')\n"
     ]
    }
   ],
   "source": [
    "#dropping unnecessary columns\n",
    "X = df.drop(columns=['Energy', 'BS', 'Year', 'Month', 'Day', 'Time', 'Minute', 'Second']) \n",
    "\n",
    "# Target variable remains the same\n",
    "y = df['Energy']\n",
    "\n",
    "# Splitting the data into training and test sets\n",
    "X_train, X_test, y_train, y_test = train_test_split(X, y, test_size=0.2, random_state=42)\n",
    "\n",
    "# Verifying the features\n",
    "print(X_train.columns)"
   ]
  },
  {
   "cell_type": "markdown",
   "id": "4525c82a-3fcd-4790-bb42-cda37f922490",
   "metadata": {},
   "source": [
    "#### Selecting a ML Regression Algorithm and Training It to see which gives the best result"
   ]
  },
  {
   "cell_type": "code",
   "execution_count": 21,
   "id": "e8d12adf-3256-4a6b-bcbe-bc42e65bceaf",
   "metadata": {
    "tags": []
   },
   "outputs": [
    {
     "name": "stdout",
     "output_type": "stream",
     "text": [
      "Linear Regression:\n",
      "MAE: 2.7504842567919368\n",
      "MSE: 14.976882793435548\n",
      "R² Score: 0.9210938363967964\n"
     ]
    }
   ],
   "source": [
    "# Initialize and train the model\n",
    "linear_model = LinearRegression()\n",
    "linear_model.fit(X_train, y_train)\n",
    "\n",
    "# Make predictions\n",
    "y_pred_linear = linear_model.predict(X_test)\n",
    "\n",
    "# Evaluate the model\n",
    "print(\"Linear Regression:\")\n",
    "print(\"MAE:\", mean_absolute_error(y_test, y_pred_linear))\n",
    "print(\"MSE:\", mean_squared_error(y_test, y_pred_linear))\n",
    "print(\"R² Score:\", r2_score(y_test, y_pred_linear))"
   ]
  },
  {
   "cell_type": "code",
   "execution_count": 22,
   "id": "14e199be-076e-48e0-948f-3e89430c9729",
   "metadata": {
    "tags": []
   },
   "outputs": [
    {
     "name": "stdout",
     "output_type": "stream",
     "text": [
      "XGBoost Regression:\n",
      "MAE: 1.5511971272413154\n",
      "MSE: 5.544545697940161\n",
      "R² Score: 0.9707883919517042\n"
     ]
    }
   ],
   "source": [
    "from xgboost import XGBRegressor\n",
    "\n",
    "\n",
    "# Initialize and train the model\n",
    "xgb_model = XGBRegressor(random_state=42)\n",
    "xgb_model.fit(X_train, y_train)\n",
    "\n",
    "# Make predictions\n",
    "y_pred_xgb = xgb_model.predict(X_test)\n",
    "\n",
    "# Evaluate the model\n",
    "print(\"XGBoost Regression:\")\n",
    "print(\"MAE:\", mean_absolute_error(y_test, y_pred_xgb))\n",
    "print(\"MSE:\", mean_squared_error(y_test, y_pred_xgb))\n",
    "print(\"R² Score:\", r2_score(y_test, y_pred_xgb))\n"
   ]
  },
  {
   "cell_type": "code",
   "execution_count": 23,
   "id": "7e76eb60-0eb5-4b40-ad8e-7e2d1bccda6d",
   "metadata": {
    "tags": []
   },
   "outputs": [
    {
     "name": "stdout",
     "output_type": "stream",
     "text": [
      "Decision Tree Regression:\n",
      "MAE: 1.7447697766014387\n",
      "MSE: 8.197822268440413\n",
      "R² Score: 0.9568095234485599\n"
     ]
    }
   ],
   "source": [
    "from sklearn.tree import DecisionTreeRegressor\n",
    "\n",
    "# Initialize and train the model\n",
    "tree_model = DecisionTreeRegressor(random_state=42)\n",
    "tree_model.fit(X_train, y_train)\n",
    "\n",
    "# Make predictions\n",
    "y_pred_tree = tree_model.predict(X_test)\n",
    "\n",
    "# Evaluate the model\n",
    "print(\"Decision Tree Regression:\")\n",
    "print(\"MAE:\", mean_absolute_error(y_test, y_pred_tree))\n",
    "print(\"MSE:\", mean_squared_error(y_test, y_pred_tree))\n",
    "print(\"R² Score:\", r2_score(y_test, y_pred_tree))\n"
   ]
  },
  {
   "cell_type": "code",
   "execution_count": 24,
   "id": "a0ef331a-2e17-4805-8a35-d4627d144711",
   "metadata": {
    "tags": []
   },
   "outputs": [
    {
     "name": "stdout",
     "output_type": "stream",
     "text": [
      "Gradient Boosting Regression:\n",
      "MAE: 1.970588763756416\n",
      "MSE: 8.224305651841785\n",
      "R² Score: 0.9566699949357007\n"
     ]
    }
   ],
   "source": [
    "from sklearn.ensemble import GradientBoostingRegressor\n",
    "\n",
    "# Initialize and train the model\n",
    "gb_model = GradientBoostingRegressor(random_state=42)\n",
    "gb_model.fit(X_train, y_train)\n",
    "\n",
    "# Make predictions\n",
    "y_pred_gb = gb_model.predict(X_test)\n",
    "\n",
    "# Evaluate the model\n",
    "print(\"Gradient Boosting Regression:\")\n",
    "print(\"MAE:\", mean_absolute_error(y_test, y_pred_gb))\n",
    "print(\"MSE:\", mean_squared_error(y_test, y_pred_gb))\n",
    "print(\"R² Score:\", r2_score(y_test, y_pred_gb))\n"
   ]
  },
  {
   "cell_type": "markdown",
   "id": "dc5599ec-244a-4ff6-800a-995a92150cf8",
   "metadata": {},
   "source": [
    "##### XGBoost Regression has the best performance in terms of all metrics (lowest MAE, MSE, and highest R² score), indicating that it is the most accurate model among those tested."
   ]
  },
  {
   "cell_type": "markdown",
   "id": "e4ec6dd2-4d98-4bb4-a199-5889fe6c39a0",
   "metadata": {},
   "source": [
    "#### Initialize and train the model"
   ]
  },
  {
   "cell_type": "code",
   "execution_count": 25,
   "id": "a859cd7f-7812-48b2-88d4-4aa9d58002ba",
   "metadata": {},
   "outputs": [
    {
     "data": {
      "text/html": [
       "<style>#sk-container-id-1 {color: black;background-color: white;}#sk-container-id-1 pre{padding: 0;}#sk-container-id-1 div.sk-toggleable {background-color: white;}#sk-container-id-1 label.sk-toggleable__label {cursor: pointer;display: block;width: 100%;margin-bottom: 0;padding: 0.3em;box-sizing: border-box;text-align: center;}#sk-container-id-1 label.sk-toggleable__label-arrow:before {content: \"▸\";float: left;margin-right: 0.25em;color: #696969;}#sk-container-id-1 label.sk-toggleable__label-arrow:hover:before {color: black;}#sk-container-id-1 div.sk-estimator:hover label.sk-toggleable__label-arrow:before {color: black;}#sk-container-id-1 div.sk-toggleable__content {max-height: 0;max-width: 0;overflow: hidden;text-align: left;background-color: #f0f8ff;}#sk-container-id-1 div.sk-toggleable__content pre {margin: 0.2em;color: black;border-radius: 0.25em;background-color: #f0f8ff;}#sk-container-id-1 input.sk-toggleable__control:checked~div.sk-toggleable__content {max-height: 200px;max-width: 100%;overflow: auto;}#sk-container-id-1 input.sk-toggleable__control:checked~label.sk-toggleable__label-arrow:before {content: \"▾\";}#sk-container-id-1 div.sk-estimator input.sk-toggleable__control:checked~label.sk-toggleable__label {background-color: #d4ebff;}#sk-container-id-1 div.sk-label input.sk-toggleable__control:checked~label.sk-toggleable__label {background-color: #d4ebff;}#sk-container-id-1 input.sk-hidden--visually {border: 0;clip: rect(1px 1px 1px 1px);clip: rect(1px, 1px, 1px, 1px);height: 1px;margin: -1px;overflow: hidden;padding: 0;position: absolute;width: 1px;}#sk-container-id-1 div.sk-estimator {font-family: monospace;background-color: #f0f8ff;border: 1px dotted black;border-radius: 0.25em;box-sizing: border-box;margin-bottom: 0.5em;}#sk-container-id-1 div.sk-estimator:hover {background-color: #d4ebff;}#sk-container-id-1 div.sk-parallel-item::after {content: \"\";width: 100%;border-bottom: 1px solid gray;flex-grow: 1;}#sk-container-id-1 div.sk-label:hover label.sk-toggleable__label {background-color: #d4ebff;}#sk-container-id-1 div.sk-serial::before {content: \"\";position: absolute;border-left: 1px solid gray;box-sizing: border-box;top: 0;bottom: 0;left: 50%;z-index: 0;}#sk-container-id-1 div.sk-serial {display: flex;flex-direction: column;align-items: center;background-color: white;padding-right: 0.2em;padding-left: 0.2em;position: relative;}#sk-container-id-1 div.sk-item {position: relative;z-index: 1;}#sk-container-id-1 div.sk-parallel {display: flex;align-items: stretch;justify-content: center;background-color: white;position: relative;}#sk-container-id-1 div.sk-item::before, #sk-container-id-1 div.sk-parallel-item::before {content: \"\";position: absolute;border-left: 1px solid gray;box-sizing: border-box;top: 0;bottom: 0;left: 50%;z-index: -1;}#sk-container-id-1 div.sk-parallel-item {display: flex;flex-direction: column;z-index: 1;position: relative;background-color: white;}#sk-container-id-1 div.sk-parallel-item:first-child::after {align-self: flex-end;width: 50%;}#sk-container-id-1 div.sk-parallel-item:last-child::after {align-self: flex-start;width: 50%;}#sk-container-id-1 div.sk-parallel-item:only-child::after {width: 0;}#sk-container-id-1 div.sk-dashed-wrapped {border: 1px dashed gray;margin: 0 0.4em 0.5em 0.4em;box-sizing: border-box;padding-bottom: 0.4em;background-color: white;}#sk-container-id-1 div.sk-label label {font-family: monospace;font-weight: bold;display: inline-block;line-height: 1.2em;}#sk-container-id-1 div.sk-label-container {text-align: center;}#sk-container-id-1 div.sk-container {/* jupyter's `normalize.less` sets `[hidden] { display: none; }` but bootstrap.min.css set `[hidden] { display: none !important; }` so we also need the `!important` here to be able to override the default hidden behavior on the sphinx rendered scikit-learn.org. See: https://github.com/scikit-learn/scikit-learn/issues/21755 */display: inline-block !important;position: relative;}#sk-container-id-1 div.sk-text-repr-fallback {display: none;}</style><div id=\"sk-container-id-1\" class=\"sk-top-container\"><div class=\"sk-text-repr-fallback\"><pre>XGBRegressor(base_score=None, booster=None, callbacks=None,\n",
       "             colsample_bylevel=None, colsample_bynode=None,\n",
       "             colsample_bytree=None, device=None, early_stopping_rounds=None,\n",
       "             enable_categorical=False, eval_metric=None, feature_types=None,\n",
       "             gamma=None, grow_policy=None, importance_type=None,\n",
       "             interaction_constraints=None, learning_rate=None, max_bin=None,\n",
       "             max_cat_threshold=None, max_cat_to_onehot=None,\n",
       "             max_delta_step=None, max_depth=None, max_leaves=None,\n",
       "             min_child_weight=None, missing=nan, monotone_constraints=None,\n",
       "             multi_strategy=None, n_estimators=None, n_jobs=None,\n",
       "             num_parallel_tree=None, random_state=42, ...)</pre><b>In a Jupyter environment, please rerun this cell to show the HTML representation or trust the notebook. <br />On GitHub, the HTML representation is unable to render, please try loading this page with nbviewer.org.</b></div><div class=\"sk-container\" hidden><div class=\"sk-item\"><div class=\"sk-estimator sk-toggleable\"><input class=\"sk-toggleable__control sk-hidden--visually\" id=\"sk-estimator-id-1\" type=\"checkbox\" checked><label for=\"sk-estimator-id-1\" class=\"sk-toggleable__label sk-toggleable__label-arrow\">XGBRegressor</label><div class=\"sk-toggleable__content\"><pre>XGBRegressor(base_score=None, booster=None, callbacks=None,\n",
       "             colsample_bylevel=None, colsample_bynode=None,\n",
       "             colsample_bytree=None, device=None, early_stopping_rounds=None,\n",
       "             enable_categorical=False, eval_metric=None, feature_types=None,\n",
       "             gamma=None, grow_policy=None, importance_type=None,\n",
       "             interaction_constraints=None, learning_rate=None, max_bin=None,\n",
       "             max_cat_threshold=None, max_cat_to_onehot=None,\n",
       "             max_delta_step=None, max_depth=None, max_leaves=None,\n",
       "             min_child_weight=None, missing=nan, monotone_constraints=None,\n",
       "             multi_strategy=None, n_estimators=None, n_jobs=None,\n",
       "             num_parallel_tree=None, random_state=42, ...)</pre></div></div></div></div></div>"
      ],
      "text/plain": [
       "XGBRegressor(base_score=None, booster=None, callbacks=None,\n",
       "             colsample_bylevel=None, colsample_bynode=None,\n",
       "             colsample_bytree=None, device=None, early_stopping_rounds=None,\n",
       "             enable_categorical=False, eval_metric=None, feature_types=None,\n",
       "             gamma=None, grow_policy=None, importance_type=None,\n",
       "             interaction_constraints=None, learning_rate=None, max_bin=None,\n",
       "             max_cat_threshold=None, max_cat_to_onehot=None,\n",
       "             max_delta_step=None, max_depth=None, max_leaves=None,\n",
       "             min_child_weight=None, missing=nan, monotone_constraints=None,\n",
       "             multi_strategy=None, n_estimators=None, n_jobs=None,\n",
       "             num_parallel_tree=None, random_state=42, ...)"
      ]
     },
     "execution_count": 25,
     "metadata": {},
     "output_type": "execute_result"
    }
   ],
   "source": [
    "xgb_model = XGBRegressor(random_state=42)\n",
    "xgb_model.fit(X_train, y_train)"
   ]
  },
  {
   "cell_type": "markdown",
   "id": "233bc53a-f2ad-4a12-a606-9f920fbd4358",
   "metadata": {},
   "source": [
    "#### Make predictions"
   ]
  },
  {
   "cell_type": "code",
   "execution_count": 26,
   "id": "97101a1d-7ca4-4c6e-bebe-f10d34b88383",
   "metadata": {
    "tags": []
   },
   "outputs": [],
   "source": [
    "y_pred_xgb = xgb_model.predict(X_test)"
   ]
  },
  {
   "cell_type": "markdown",
   "id": "eee40ebb-112a-4c26-b454-ab0a5add1b68",
   "metadata": {},
   "source": [
    "#### Evaluate the model"
   ]
  },
  {
   "cell_type": "code",
   "execution_count": 27,
   "id": "59db66ba-a438-4cee-a88f-24339195133d",
   "metadata": {
    "tags": []
   },
   "outputs": [
    {
     "name": "stdout",
     "output_type": "stream",
     "text": [
      "XGBoost Regression:\n",
      "MAE: 1.5511971272413154\n",
      "MSE: 5.544545697940161\n",
      "R² Score: 0.9707883919517042\n"
     ]
    }
   ],
   "source": [
    "print(\"XGBoost Regression:\")\n",
    "print(\"MAE:\", mean_absolute_error(y_test, y_pred_xgb))\n",
    "print(\"MSE:\", mean_squared_error(y_test, y_pred_xgb))\n",
    "print(\"R² Score:\", r2_score(y_test, y_pred_xgb))"
   ]
  },
  {
   "cell_type": "code",
   "execution_count": null,
   "id": "0ece41c5-7326-4847-8f10-4cfa31e84f9d",
   "metadata": {},
   "outputs": [],
   "source": []
  }
 ],
 "metadata": {
  "kernelspec": {
   "display_name": "Python 3 (ipykernel)",
   "language": "python",
   "name": "python3"
  },
  "language_info": {
   "codemirror_mode": {
    "name": "ipython",
    "version": 3
   },
   "file_extension": ".py",
   "mimetype": "text/x-python",
   "name": "python",
   "nbconvert_exporter": "python",
   "pygments_lexer": "ipython3",
   "version": "3.11.3"
  }
 },
 "nbformat": 4,
 "nbformat_minor": 5
}
