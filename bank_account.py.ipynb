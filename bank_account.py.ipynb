{
 "cells": [
  {
   "cell_type": "markdown",
   "id": "96c7eccf",
   "metadata": {},
   "source": [
    "# PYTHON CLASS AND OBJECT CHECKPOINT"
   ]
  },
  {
   "cell_type": "markdown",
   "id": "45bc8bd6",
   "metadata": {},
   "source": [
    "Create a class called **\"Account\"** that has the following attributes:\n",
    "\n",
    "- account_number (string) -\n",
    "- account_balance (float) -\n",
    "- account_holder (string) -\n",
    "\n",
    "The class should have the following methods:\n",
    "\n",
    "- deposit(amount: float) - This method should add the amount passed as an argument to the account balance.-\n",
    "- withdraw(amount: float) - This method should subtract the amount passed as an argument from the account balance, but only if the account balance is greater than the amount being withdrawn. -\n",
    "- check_balance() - This method should return the current account balance. -\n",
    "\n",
    "**Instructions**\n",
    "\n",
    "1. Create a new file called \"bank_account.py\"\n",
    "2. Define the Account class and its attributes as specified above.\n",
    "3. Define the deposit() method. It should take in one argument, the amount to be deposited, and add it to the account balance.\n",
    "4. Define the withdraw() method. It should take in one argument, the amount to be withdrawn, and subtract it from the account balance. The method should only execute the withdrawal if the account balance is greater than or equal to the amount to be withdrawn.\n",
    "5. Define the check_balance() method. It should return the current account balance.\n",
    "6. Create an instance of the Account class, and assign it to a variable called \"my_account\".\n",
    "7. Use the methods of the class to deposit and withdraw money from the account, and check the account balance.\n",
    "8. Test the program by creating multiple instances of the class and performing different transactions on them."
   ]
  },
  {
   "cell_type": "code",
   "execution_count": 1,
   "id": "57da9c40",
   "metadata": {},
   "outputs": [],
   "source": [
    "#Defining the Account class and its attributes as specified above.\n",
    "\n",
    "class Account:\n",
    "    def __init__(self, account_number, account_balance, account_holder):\n",
    "        self.account_number = account_number\n",
    "        self.account_balance = account_balance\n",
    "        self.account_holder = account_holder\n",
    "     \n",
    "    #Defining the deposit() method\n",
    "    def deposit(self, amount): \n",
    "        self.account_balance = amount + self.account_balance\n",
    "    \n",
    "    #Defining the withdraw() method\n",
    "    def withdraw(self, amount):\n",
    "        #condition to check if the amount is greater than the account balance\n",
    "        if self.account_balance >= amount:\n",
    "            self.account_balance = self.account_balance - amount\n",
    "        else:\n",
    "            print(\"Amount is larger than the account balance\")\n",
    "            \n",
    "    #Defining the check_balance() method.       \n",
    "    def check_balance(self):\n",
    "        print(f\"Your account balance is {self.account_balance}\")\n",
    "    "
   ]
  },
  {
   "cell_type": "code",
   "execution_count": 2,
   "id": "9e9187a0",
   "metadata": {},
   "outputs": [],
   "source": [
    "#Creating an instance of the Account class, and assigning it to a variable called \"my_account\".\n",
    "\n",
    "my_account = Account(\"0668862148\", 5000000, \"Damilare Talabi\")"
   ]
  },
  {
   "cell_type": "code",
   "execution_count": 3,
   "id": "a9cd3043",
   "metadata": {},
   "outputs": [
    {
     "name": "stdout",
     "output_type": "stream",
     "text": [
      "Your account balance is 5200000\n"
     ]
    }
   ],
   "source": [
    "#Using the methods of the class to deposit and withdraw money from the account, and check the account balance.\n",
    "\n",
    "my_account.deposit(300000)\n",
    "\n",
    "my_account.withdraw(100000)\n",
    "\n",
    "my_account.check_balance()\n"
   ]
  },
  {
   "cell_type": "code",
   "execution_count": 4,
   "id": "3cf57f49",
   "metadata": {},
   "outputs": [
    {
     "name": "stdout",
     "output_type": "stream",
     "text": [
      "Amount is larger than the account balance\n"
     ]
    }
   ],
   "source": [
    "#Test the program by creating multiple instances of the class and performing different transactions on them.\n",
    "\n",
    "account1 = Account(\"0676789996\", 89.00, \"Mufu chidi\")\n",
    "\n",
    "account1.withdraw(100)"
   ]
  },
  {
   "cell_type": "code",
   "execution_count": 5,
   "id": "eb9e6741",
   "metadata": {},
   "outputs": [
    {
     "name": "stdout",
     "output_type": "stream",
     "text": [
      "Your account balance is 89.0\n"
     ]
    }
   ],
   "source": [
    "account1.check_balance()"
   ]
  },
  {
   "cell_type": "code",
   "execution_count": 6,
   "id": "a512d833",
   "metadata": {},
   "outputs": [
    {
     "name": "stdout",
     "output_type": "stream",
     "text": [
      "Amount is larger than the account balance\n"
     ]
    }
   ],
   "source": [
    "account2 = Account(\"0123456789\", 450000.9, \"Somadina chibuzor\")\n",
    "\n",
    "account2.withdraw(500000)"
   ]
  },
  {
   "cell_type": "code",
   "execution_count": 7,
   "id": "a5cb87f6",
   "metadata": {},
   "outputs": [],
   "source": [
    "account2.deposit(1000)"
   ]
  },
  {
   "cell_type": "code",
   "execution_count": 8,
   "id": "ce67fe14",
   "metadata": {},
   "outputs": [
    {
     "name": "stdout",
     "output_type": "stream",
     "text": [
      "Your account balance is 451000.9\n"
     ]
    }
   ],
   "source": [
    "account2.check_balance()"
   ]
  }
 ],
 "metadata": {
  "kernelspec": {
   "display_name": "Python 3 (ipykernel)",
   "language": "python",
   "name": "python3"
  },
  "language_info": {
   "codemirror_mode": {
    "name": "ipython",
    "version": 3
   },
   "file_extension": ".py",
   "mimetype": "text/x-python",
   "name": "python",
   "nbconvert_exporter": "python",
   "pygments_lexer": "ipython3",
   "version": "3.11.3"
  }
 },
 "nbformat": 4,
 "nbformat_minor": 5
}
